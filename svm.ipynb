{
 "cells": [
  {
   "cell_type": "markdown",
   "metadata": {},
   "source": [
    "# Máquinas de Vetor Suporte\n",
    "\n",
    "Até o momento, verificamos como traduzir problema de classificação como um caso específico de problemas de regressão. Para tal, a saída $y=f(x)$ do sistema de regressão é condicionada por uma função degrau $g(y)$ tal que:\n",
    "$$\\begin{array}{ll}\n",
    "g(y)=1 &\\mbox{se } y > \\alpha\\\\\n",
    " g(y) = -1 &  \\mbox{se } y \\leq \\alpha\n",
    " \\end{array}$$\n",
    " \n",
    "A função degrau traz o problema de não ter uma derivada, de forma que um sistema envolvendo-a é difícil de otimizar. Trocando a função degrau por uma função contínua, mas semelhante, como $\\tanh(y)$, o sistema de regressão pode ser treinado como um sistema de aproximação.\n",
    "\n",
    "Nesta interação, investigaremos um outro paradigma para treinar máquinas de classificação, que é usado para construir as máquinas de vetor suporte (*Support Vector Machines - SVMs*).\n",
    "\n",
    "## Objetivos\n",
    "\n",
    "Ao fim desta interação, o aluno deverá:\n",
    "1. Entender o conceito de *vetor-suporte*\n",
    "2. Entender a diferença entre os paradigmas de treinamento por minimização de EQM e por vetores-suporte\n",
    "3. Aplicar SVMs a problemas de classificação"
   ]
  },
  {
   "cell_type": "code",
   "execution_count": 3,
   "metadata": {
    "collapsed": true
   },
   "outputs": [],
   "source": [
    "# Inicializacao\n",
    "%matplotlib inline\n",
    "\n",
    "import numpy as np\n",
    "from matplotlib import pyplot as plt"
   ]
  },
  {
   "cell_type": "markdown",
   "metadata": {},
   "source": [
    "## Separação linear\n",
    "\n",
    "Dizemos que dois conjuntos de pontos são linearmente separáveis se podemos traçar uma reta (ou: um hiperplano) que os separa completamente no espaço $\\mathbb{R}^N$. Assim, poderíamos analisar o seguinte caso arbitrário:"
   ]
  },
  {
   "cell_type": "code",
   "execution_count": 4,
   "metadata": {
    "collapsed": false
   },
   "outputs": [
    {
     "data": {
      "image/png": "[encoded data removed]",
      "text/plain": [
       "<matplotlib.figure.Figure at 0x1116ae390>"
      ]
     },
     "metadata": {},
     "output_type": "display_data"
    }
   ],
   "source": [
    "a = np.random.rand(2,50) - 1.1\n",
    "b = np.random.rand(2,50) + 0.1\n",
    "c = np.random.randn(2,50) \n",
    "plt.figure();\n",
    "plt.scatter(a[0,:], a[1,:], color='red');\n",
    "plt.scatter(b[0,:], b[1,:], color='blue');\n",
    "plt.scatter(c[0,:], c[1,:], color='green');\n",
    "plt.legend(['a', 'b', 'c']);"
   ]
  },
  {
   "cell_type": "markdown",
   "metadata": {},
   "source": [
    "Nesta configuração, os conjuntos **a** e **b** são linearmente separáveis entre si, mas nenhum deles é linearmente separável de **c**.\n",
    "\n",
    "## Risco de uma margem de decisão\n",
    "\n",
    "Considerando os conjuntos **a** e **b** acima, podemos encontrar diversas fronteiras de decisão interessantes. Veja, por exemplo, três possíveis fronteiras de decisão (preta, verde e roxa):"
   ]
  },
  {
   "cell_type": "code",
   "execution_count": 5,
   "metadata": {
    "collapsed": false
   },
   "outputs": [
    {
     "data": {
      "image/png": "[encoded data removed]",
      "text/plain": [
       "<matplotlib.figure.Figure at 0x1116f42d0>"
      ]
     },
     "metadata": {},
     "output_type": "display_data"
    }
   ],
   "source": [
    "plt.figure();\n",
    "plt.scatter(a[0,:], a[1,:], color='red');\n",
    "plt.scatter(b[0,:], b[1,:], color='blue');\n",
    "plt.plot([-1.5, 1], [1.1, -0.9], color='black', lw=1);\n",
    "plt.plot([-1, 1], [1, -1], color='green', lw=1);\n",
    "plt.plot([-1, 1], [0.9, -0.5], color='purple', lw=1);"
   ]
  },
  {
   "cell_type": "markdown",
   "metadata": {},
   "source": [
    "As três fronteiras levarão a um erro de classificação zero. Porém, as fronteiras roxa e preta estão muito mais próximas de um conjunto que de outro. Se os conjuntos linearmente separáveis **a** e **b** forem conjuntos de treinamento, então fronteiras muito próximas de um dos conjuntos provavelmente acarretarão em erros em com conjunto de testes.\n",
    "\n",
    "Por esse motivo, a fronteira verde parece ser mais \"segura\", ou ainda, de *menor risco*.\n",
    "\n",
    "A fronteira de decisão de menor risco pode ser encontrada à partir, somente, dos elementos de um conjunto que ficam mais próximo do outro conjunto.\n",
    "\n",
    "## Kernels e mapeamento para um espaço de dimensão elevada\n",
    "\n",
    "SVMs, em grande parte, baseiam-se na idéia de que, para qualquer conjunto de dados, existe algum mapeamento não-linear para uma dimensão mais elevada em que os dados são linearmente separáveis. Esse mapeamento é realizado por meio da aplicação de uma função chamada *kernel*, de forma semelhante a uma rede neural com poucas entradas e muitas saídas.\n",
    "\n",
    "A SVM se baseia numa função de mapeamento e então, subsequentemente, na aplicação de uma função de classificação linear:\n",
    "$$z = g(f(x)).$$\n",
    "\n",
    "É evidente que o mapeamento para uma dimensão muito elevada, no caso de uma rede neural, demandaria uma quantidade muito grande de memória. A SVM evita esse processo calculando diretamente o valor de $g(f(x))$ sem passar pelos estágios intermediários.\n",
    "\n",
    "## O procedimento da SVM\n",
    "\n",
    "As SVMs baseiam-se no seguinte procedimento:\n",
    "1. Mapear os dados para um espaço de dimensão elevada, no qual eles são linearmente separáveis\n",
    "2. Encontrar uma reta de separação que minimiza o risco, maximizando a distância entre a reta e os elementos de cada conjunto\n",
    "3. Executar a classificação\n",
    "\n",
    "O procedimento de treino (supervisionado e discriminativo) da SVM é um procedimento convexo, então seu ótimo global é único.\n",
    "\n",
    "## Configurando uma SVM\n",
    "\n",
    "Em implementações de SVMs, é comum encontrarmos os seguintes parâmetros:\n",
    "\n",
    "* **C**: é um coeficiente relacionado à regularização do resultado. Um valor muito alto permite criar SVMs com fronteiras de decisão mais flexíveis, mas pode levar ao *overfitting*. Um valor muito baixo pode levar ao *underfitting*. Outra intepretação: **C** é o custo de aceitar uma classificação errada ao tentar encontrar uma margem de decisão mais regular. Assim, quanto mais baixo é **C**, menos a idéia de separação linear é aplicada, beneficiando a suavidade da fronteira de decisão. $\\boldsymbol C \\rightarrow \\infty$ leva a uma SVM que funciona estritamente como discutido acima.\n",
    "\n",
    "* $\\boldsymbol \\epsilon$: O aumento deste parâmetro implica no uso de mais elementos para serem selecionados como vetores-suporte. Deve ser aumentado em conjutos de dados mais ruidosos, mas seu aumento excessivo pode prejudicar o desempenho da SVM.\n",
    "\n",
    "Um procedimento comum para encontrar os valores ótimos desses parâmetros é executar uma busca em grade (logarítmica, variando de $10^{-7}$ a $10^4$), tentando minimizar o erro de classificação em relação a uma parte do conjunto de treinamento."
   ]
  },
  {
   "cell_type": "code",
   "execution_count": 19,
   "metadata": {
    "collapsed": true
   },
   "outputs": [],
   "source": [
    "# Abrindo conjunto de dados\n",
    "import csv\n",
    "with open(\"biometria.csv\", 'rb') as f:\n",
    "    dados = list(csv.reader(f))\n",
    "    \n",
    "rotulos_volei = [d[0] for d in dados[1:-1] if d[0] is 'V']\n",
    "rotulos_futebol = [d[0] for d in dados[1:-1] if d[0] is 'F']\n",
    "altura_volei = [[float(d[1])] for d in dados[1:-1] if d[0] is 'V']\n",
    "altura_futebol = [[float(d[1])] for d in dados[1:-1] if d[0] is 'F']\n",
    "peso_volei = [[float(d[2])] for d in dados[1:-1] if d[0] is 'V']\n",
    "peso_futebol = [[float(d[2])] for d in dados[1:-1] if d[0] is 'F']"
   ]
  },
  {
   "cell_type": "code",
   "execution_count": 26,
   "metadata": {
    "collapsed": false
   },
   "outputs": [
    {
     "name": "stdout",
     "output_type": "stream",
     "text": [
      "Acertos: 41\n"
     ]
    }
   ],
   "source": [
    "from sklearn.svm import SVC\n",
    "classificador = SVC(C=10.0)\n",
    "classificador.fit(altura_volei + altura_futebol, rotulos_volei + rotulos_futebol);\n",
    "score = classificador.score(altura_volei + altura_futebol, rotulos_volei + rotulos_futebol)\n",
    "print \"Acertos:\", int(score * len(altura_volei + altura_futebol))"
   ]
  },
  {
   "cell_type": "code",
   "execution_count": 36,
   "metadata": {
    "collapsed": false
   },
   "outputs": [
    {
     "data": {
      "image/png": "[encoded data removed]",
      "text/plain": [
       "<matplotlib.figure.Figure at 0x1130b9310>"
      ]
     },
     "metadata": {},
     "output_type": "display_data"
    }
   ],
   "source": [
    "from sklearn.cross_validation import train_test_split\n",
    "\n",
    "# Parametros para executar busca exaustiva\n",
    "train_size_min = 0.3\n",
    "train_size_max = 0.95\n",
    "train_size_step = 0.05\n",
    "\n",
    "# Numero de iteracoes para cada tamanho de conjunto de treino\n",
    "n_iter = 100\n",
    "\n",
    "# Listas que armazenarao os resultados\n",
    "steps = []\n",
    "medias = []\n",
    "variancias = []\n",
    "\n",
    "train_size_atual = train_size_min\n",
    "while train_size_atual <= train_size_max: # para cada tamanho do conjunto de treino\n",
    "    acertos = []\n",
    "    for k in xrange(n_iter): # para cada iteracao do processo Monte Carlo\n",
    "        dados_treino, dados_teste, rotulos_treino, rotulos_teste =\\\n",
    "            train_test_split(altura_volei + altura_futebol, rotulos_volei + rotulos_futebol, train_size=train_size_atual)\n",
    "            \n",
    "        classificador = SVC(C=10.0); # n_neighbors = K\n",
    "        classificador.fit(dados_treino, rotulos_treino);\n",
    "        score = classificador.score(dados_teste, rotulos_teste);\n",
    "        acertos.append(score)\n",
    "    \n",
    "    steps.append(train_size_atual)\n",
    "    medias.append(np.mean(np.array(acertos)))\n",
    "    variancias.append(np.std(np.array(acertos)))\n",
    "    \n",
    "    train_size_atual += train_size_step\n",
    "\n",
    "\n",
    "plt.figure();\n",
    "plt.errorbar(steps, medias, yerr=variancias);\n",
    "plt.ylabel('Indice de acertos');\n",
    "plt.xlabel('Tamanho do conjunto de treino');"
   ]
  },
  {
   "cell_type": "markdown",
   "metadata": {},
   "source": [
    "# Exercícios\n",
    "\n",
    "1. Desenhe um fluxograma que representa o processo de aprendizado supervisionado e teste do sistema, mostrando como os dados de entrada são divididos e como são utilizados no processo de treinamento e teste.\n",
    "2. Compare esse fluxograma com o procedimento relacionado ao classificador por KNN.\n",
    "3. Considere um conjunto de dados à sua escolha, em que haja duas classes. Execute o procedimento de classificação com SVM nesse conjunto de dados. Verifique o que acontece quando o parâmetro **C** é variado."
   ]
  },
  {
   "cell_type": "code",
   "execution_count": null,
   "metadata": {
    "collapsed": true
   },
   "outputs": [],
   "source": []
  }
 ],
 "metadata": {
  "kernelspec": {
   "display_name": "Python 2",
   "language": "python",
   "name": "python2"
  },
  "language_info": {
   "codemirror_mode": {
    "name": "ipython",
    "version": 2
   },
   "file_extension": ".py",
   "mimetype": "text/x-python",
   "name": "python",
   "nbconvert_exporter": "python",
   "pygments_lexer": "ipython2",
   "version": "2.7.10"
  }
 },
 "nbformat": 4,
 "nbformat_minor": 0
}
