{
 "cells": [
  {
   "cell_type": "markdown",
   "metadata": {},
   "source": [
    "# Máquinas de Vetor Suporte\n",
    "\n",
    "Até o momento, verificamos como traduzir problema de classificação como um caso específico de problemas de regressão. Para tal, a saída $y=f(x)$ do sistema de regressão é condicionada por uma função logística $g(y)$ tal que:\n",
    "$$\\begin{array}{ll}\n",
    "g(y)=1 &\\mbox{se } y > \\alpha\\\\\n",
    " g(y) = -1 &  \\mbox{se } y \\leq \\alpha\n",
    " \\end{array}$$\n",
    " \n",
    "A função logística traz o problema de não ter uma derivada, de forma que um sistema envolvendo-a é difícil de otimizar. Trocando a função logística por uma função contínua, mas semelhante, como $\\tanh(y)$, o sistema de regressão pode ser treinado como um sistema de aproximação.\n",
    "\n",
    "Nesta interação, investigaremos um outro paradigma para treinar máquinas de classificação, que é usado para construir as máquinas de vetor suporte (*Support Vector Machines - SVMs*).\n",
    "\n",
    "## Objetivos\n",
    "\n",
    "Ao fim desta interação, o aluno deverá:\n",
    "1. Entender o conceito de *vetor-suporte*\n",
    "2. Entender a diferença entre os paradigmas de treinamento por minimização de EQM e por vetores-suporte\n",
    "3. Aplicar SVMs a problemas de classificação"
   ]
  },
  {
   "cell_type": "code",
   "execution_count": 3,
   "metadata": {
    "collapsed": true
   },
   "outputs": [],
   "source": [
    "# Inicializacao\n",
    "%matplotlib inline\n",
    "\n",
    "import numpy as np\n",
    "from matplotlib import pyplot as plt"
   ]
  },
  {
   "cell_type": "markdown",
   "metadata": {},
   "source": [
    "## Separação linear\n",
    "\n",
    "Dizemos que dois conjuntos de pontos são linearmente separáveis se podemos traçar uma reta (ou: um hiperplano) que os separa completamente no espaço $\\mathbb{R}^N$. Assim, poderíamos analisar o seguinte caso arbitrário:"
   ]
  },
  {
   "cell_type": "code",
   "execution_count": 25,
   "metadata": {
    "collapsed": false
   },
   "outputs": [
    {
     "data": {
      "image/png": "[encoded data removed]",
      "text/plain": [
       "<matplotlib.figure.Figure at 0x107ba7d50>"
      ]
     },
     "metadata": {},
     "output_type": "display_data"
    }
   ],
   "source": [
    "a = np.random.rand(2,50) - 1.1\n",
    "b = np.random.rand(2,50) + 0.1\n",
    "c = np.random.randn(2,50) \n",
    "plt.figure();\n",
    "plt.scatter(a[0,:], a[1,:], color='red');\n",
    "plt.scatter(b[0,:], b[1,:], color='blue');\n",
    "plt.scatter(c[0,:], c[1,:], color='green');\n",
    "plt.legend(['a', 'b', 'c']);"
   ]
  },
  {
   "cell_type": "markdown",
   "metadata": {},
   "source": [
    "Nesta configuração, os conjuntos **a** e **b** são linearmente separáveis entre si, mas nenhum deles é linearmente separável de **c**.\n",
    "\n",
    "## Risco de uma margem de decisão\n",
    "\n",
    "Considerando os conjuntos **a** e **b** acima, podemos encontrar diversas fronteiras de decisão interessantes. Veja, por exemplo, três possíveis fronteiras de decisão (preta, verde e roxa):"
   ]
  },
  {
   "cell_type": "code",
   "execution_count": 49,
   "metadata": {
    "collapsed": false
   },
   "outputs": [
    {
     "data": {
      "image/png": "[encoded data removed]",
      "text/plain": [
       "<matplotlib.figure.Figure at 0x107e2b390>"
      ]
     },
     "metadata": {},
     "output_type": "display_data"
    }
   ],
   "source": [
    "plt.figure();\n",
    "plt.scatter(a[0,:], a[1,:], color='red');\n",
    "plt.scatter(b[0,:], b[1,:], color='blue');\n",
    "plt.plot([-1.5, 1], [1.1, -0.9], color='black', lw=1);\n",
    "plt.plot([-1, 1], [1, -1], color='green', lw=1);\n",
    "plt.plot([-1, 1], [0.9, -0.5], color='purple', lw=1);"
   ]
  },
  {
   "cell_type": "markdown",
   "metadata": {},
   "source": [
    "As três fronteiras levarão a um erro de classificação zero. Porém, as fronteiras roxa e preta estão muito mais próximas de um conjunto que de outro. Se os conjuntos linearmente separáveis **a** e **b** forem conjuntos de treinamento, então fronteiras muito próximas de um dos conjuntos provavelmente acarretarão em erros em com conjunto de testes.\n",
    "\n",
    "Por esse motivo, a fronteira verde parece ser mais \"segura\", ou ainda, de *menor risco*.\n",
    "\n",
    "A fronteira de decisão de menor risco pode ser encontrada escolhendo os elementos de um conjunto que são mais próximos do outro conjunto, e então obtendo o hiperplano que é mais distante de ambos os conjuntos.\n",
    "\n",
    "## Kernels e mapeamento para um espaço de dimensão elevada\n",
    "\n",
    "SVMs, em grande parte, baseiam-se na idéia de que, para qualquer conjunto de dados, existe algum mapeamento não-linear para uma dimensão mais elevada em que os dados são linearmente separáveis. Esse mapeamento é realizado por meio da aplicação de uma função chamada *kernel*, de forma semelhante a uma rede neural com poucas entradas e muitas saídas.\n",
    "\n",
    "A SVM se baseia numa função de mapeamento e então, subsequentemente, na aplicação de uma função de classificação linear:\n",
    "$$y = g(f(x)).$$\n",
    "\n",
    "É evidente que o mapeamento para uma dimensão muito elevada, no caso de uma rede neural, demandaria uma quantidade muito grande de memória. A SVM evita esse processo calculando diretamente o valor de $g(f(x))$ sem passar pelos estágios intermediários.\n",
    "\n",
    "## O procedimento da SVM\n",
    "\n",
    "As SVMs baseiam-se no seguinte procedimento:\n",
    "1. Mapear os dados para um espaço de dimensão elevada, no qual eles são linearmente separáveis\n",
    "2. Encontrar uma reta de separação que minimiza o risco, maximizando a distância entre a reta e os elementos de cada conjunto\n",
    "3. Executar a classificação\n",
    "\n",
    "O procedimento de treino (supervisionado e discriminativo) da SVM é um procedimento convexo, então seu ótimo global pode ser encontrado de forma exata em apenas uma iteração.\n",
    "\n",
    "## Configurando uma SVM\n",
    "\n",
    "Em implementações de SVMs, é comum encontrarmos os seguintes parâmetros:\n",
    "\n",
    "* **C**: é um coeficiente relacionado à regularização do resultado. Um valor muito alto permite criar SVMs com fronteiras de decisão mais flexíveis, mas pode levar ao *overfitting*. Um valor muito baixo pode levar ao *underfitting*.\n",
    "\n",
    "* $\\boldsymbol \\epsilon$: O aumento deste parâmetro implica no uso de mais elementos para serem selecionados como vetores-suporte. Deve ser aumentado em conjutos de dados mais ruidosos, mas seu aumento excessivo pode prejudicar o desempenho da SVM.\n",
    "\n",
    "Um procedimento comum para encontrar os valores ótimos desses parâmetros é executar uma busca em grade (logarítmica, variando de $10^{-7}$ a $10^4$), tentando minimizar o erro de classificação em relação a uma parte do conjunto de treinamento."
   ]
  },
  {
   "cell_type": "code",
   "execution_count": null,
   "metadata": {
    "collapsed": true
   },
   "outputs": [],
   "source": []
  },
  {
   "cell_type": "code",
   "execution_count": null,
   "metadata": {
    "collapsed": true
   },
   "outputs": [],
   "source": []
  }
 ],
 "metadata": {
  "kernelspec": {
   "display_name": "Python 2",
   "language": "python",
   "name": "python2"
  },
  "language_info": {
   "codemirror_mode": {
    "name": "ipython",
    "version": 2
   },
   "file_extension": ".py",
   "mimetype": "text/x-python",
   "name": "python",
   "nbconvert_exporter": "python",
   "pygments_lexer": "ipython2",
   "version": "2.7.10"
  }
 },
 "nbformat": 4,
 "nbformat_minor": 0
}
