{
 "cells": [
  {
   "cell_type": "markdown",
   "metadata": {},
   "source": [
    "# Classificação por Modelos Não-Paramétricos\n",
    "\n",
    "Sistemas baseados em regras têm um problema bastante sério: eles dependem da construção de regras. Pode ser interessante, para diversos problemas, que os critérios de classificação sejam aprendidos automaticamente pelo sistema. Neste caderno, utilizaremos \n",
    "\n",
    "# Objetivos\n",
    "\n",
    "Ao final desta iteração, o aluno será capaz de:\n",
    "* Entender o conceito de *aprendizado supervisionado*\n",
    "* Entender o conceito de *generalização*\n",
    "* Entender sistemas de aprendizado tipo K Nearest Neighbors\n",
    "* Construir conjuntos de treinamento e teste\n",
    "* Analisar, através de processos Monte Carlo, a robustez de sistemas de aprendizado\n",
    "* Utilizar o pacote Python para classificação por KNN\n",
    "\n"
   ]
  },
  {
   "cell_type": "code",
   "execution_count": 1,
   "metadata": {
    "collapsed": true
   },
   "outputs": [],
   "source": [
    "# Inicializacao\n",
    "%matplotlib inline\n",
    "\n",
    "import numpy as np\n",
    "from matplotlib import pyplot as plt"
   ]
  },
  {
   "cell_type": "markdown",
   "metadata": {},
   "source": [
    "# K Vizinhos mais Próximos (K Nearest Neighbors - KNN)\n",
    "\n",
    "KNN é um algoritmo não-paramétrico que funciona da seguinte forma. Na *fase de treinamento* (fit), o sistema classificador recebe como entrada um conjunto de elementos rotulados da base de dados. Na *fase de teste* (predict), o sistema encontra o rótulo dos K vizinhos (dentre os elementos recebidos no treinamento) mais próximos de cada elemento recebido como entrada, e então retorna o rótulo mais frequente nesses vizinhos.\n",
    "\n",
    "Trata-se de um algoritmo bastante conhecido, implementado no módulo [scikit-learn](http://scikit-learn.org/stable/modules/neighbors.html) do Python. Por favor, altere o código abaixo até se sentir confortável com os métodos fit() e predict() do classificador. Como exercício, modifique o código para que as entradas tenham mais de uma dimensão, e tente predizer o que acontece ao variar o número K de vizinhos avaliados."
   ]
  },
  {
   "cell_type": "code",
   "execution_count": 2,
   "metadata": {
    "collapsed": false
   },
   "outputs": [
    {
     "name": "stdout",
     "output_type": "stream",
     "text": [
      "['V' 'F' 'V']\n"
     ]
    }
   ],
   "source": [
    "from sklearn.neighbors import KNeighborsClassifier\n",
    "\n",
    "X = [[0], [1], [2], [3], [4]];\n",
    "y = ['V', 'V', 'F', 'F', 'F'];\n",
    "neigh = KNeighborsClassifier(n_neighbors=3); # n_neighbors = K\n",
    "\n",
    "neigh.fit(X, y);\n",
    "print neigh.predict([ [1.3], [1.7], [1.5]])"
   ]
  },
  {
   "cell_type": "markdown",
   "metadata": {},
   "source": [
    "# Condicionando dados para serem abertos pelo scikit-learn\n",
    "\n",
    "Veja que o sklearn.neighbors recebe como entrada um conjunto de dados num formato que não é o mesmo que temos usado até o momento. Então, precisaremos representar nossos dados de uma forma compatível com o que o módulo requer - uma lista de N listas, sendo que cada uma dessas N listas é um vetor de dados. O código para abrir a base de dados, então, fica:"
   ]
  },
  {
   "cell_type": "code",
   "execution_count": 3,
   "metadata": {
    "collapsed": true
   },
   "outputs": [],
   "source": [
    "# Abrindo conjunto de dados\n",
    "import csv\n",
    "with open(\"biometria.csv\", 'rb') as f:\n",
    "    dados = list(csv.reader(f))\n",
    "    \n",
    "rotulos_volei = [d[0] for d in dados[1:-1] if d[0] is 'V']\n",
    "rotulos_futebol = [d[0] for d in dados[1:-1] if d[0] is 'F']\n",
    "altura_volei = [[float(d[1])] for d in dados[1:-1] if d[0] is 'V']\n",
    "altura_futebol = [[float(d[1])] for d in dados[1:-1] if d[0] is 'F']\n",
    "peso_volei = [[float(d[2])] for d in dados[1:-1] if d[0] is 'V']\n",
    "peso_futebol = [[float(d[2])] for d in dados[1:-1] if d[0] is 'F']"
   ]
  },
  {
   "cell_type": "markdown",
   "metadata": {},
   "source": [
    "O próprio KNeighborsClassifier já implementa um método que verifica o índice de acertos de um processo de classificação. O método recebe como entrada vetores que serão classificados e um conjunto de rótulos-gabarito correspondentes. Assim, o usuário fica isento de implementar essas funções e podemos escrever todo nosso processo de classificação na forma:"
   ]
  },
  {
   "cell_type": "code",
   "execution_count": null,
   "metadata": {
    "collapsed": false
   },
   "outputs": [],
   "source": [
    "classificador = KNeighborsClassifier(n_neighbors=3); # n_neighbors = K\n",
    "classificador.fit(altura_volei + altura_futebol, rotulos_volei + rotulos_futebol);\n",
    "score = classificador.score(altura_volei + altura_futebol, rotulos_volei + rotulos_futebol)\n",
    "print \"Acertos:\", int(score * len(altura_volei + altura_futebol))"
   ]
  },
  {
   "cell_type": "markdown",
   "metadata": {},
   "source": [
    "# Sobre-ajuste do modelo e conjuntos de treino-teste\n",
    "\n",
    "Mas, perceba que há algo errado. Na etapa de treinamento do nosso sistema, fornecemos a ele todos os nossos dados rotulados. Depois, na etapa de teste, verificamos quais pontos estão próximos deles mesmos - ou seja, estamos avaliando se o sistema que fizemos é capaz de classificar os próprios dados que foram usados para treiná-lo.\n",
    "\n",
    "Os resultados que tivemos, portanto, não permitem inferir se nosso sistema é capaz de generalizar o resultado. Em outras palavras, não mostramos que o sistema faz muito mais que reproduzir seus dados de treino. Podemos dizer que nosso sistema pode ter sido sobre-ajustado (ou, que sofreu *over-fitting*), e, portanto, só demonstramos funciona sobre os dados que foram usados em seu treinamento.\n",
    "\n",
    "Um sistema sobre-ajustado tem pouca capacidade de generalização, ou seja, os resultados obtidos para o conjunto de teste não extrapolam para dados adicionais. Para evitar o sobre-ajuste, é preciso construir bases de dados diferentes para as quais executaremos procedimentos de treinamento e de teste. Esse procedimento é chamado de validação.\n",
    "\n",
    "Existem muitas maneiras de dividir a base de dados. Podemos, por exemplo, escolher aleatoriamente uma fração dos dados para compor a base de treinamento e usar os dados restantes como base de teste. Esse procedimento está implementado no scikit-learn, de forma que não precisamos nos preocupar (muito) com seu funcionamento interno."
   ]
  },
  {
   "cell_type": "code",
   "execution_count": 5,
   "metadata": {
    "collapsed": false
   },
   "outputs": [
    {
     "name": "stdout",
     "output_type": "stream",
     "text": [
      "% de Acertos: 83.8709677419\n"
     ]
    }
   ],
   "source": [
    "# Validacao usando divisao aleatoria do conjunto de dados\n",
    "from sklearn.cross_validation import train_test_split\n",
    "\n",
    "dados_treino, dados_teste, rotulos_treino, rotulos_teste =\\\n",
    "    train_test_split(altura_volei + altura_futebol, rotulos_volei + rotulos_futebol, train_size=.3)\n",
    "\n",
    "classificador = KNeighborsClassifier(n_neighbors=5); # n_neighbors = K\n",
    "classificador.fit(dados_treino, rotulos_treino);\n",
    "score = classificador.score(dados_teste, rotulos_teste);\n",
    "print \"% de Acertos:\", 100*score"
   ]
  },
  {
   "cell_type": "markdown",
   "metadata": {},
   "source": [
    "Ao variar o parâmetro train_size, alteramos a fração dos dados que será utilizada para treinamento. Uma quantidade muito grande de dados de treino implica num teste menos significativo, mas pode aumentar a quantidade de acertos do sistema. Além disso, como os conjuntos são divididos aleatoriamente, duas execuções seguidas do mesmo código podem levar a resultados diferentes.\n",
    "\n",
    "É interessante que verifiquemos a robustez do nosso sistema de classificação, ou seja, a variância que podemos esperar em seus resultados. Faremos isso através de um procedimento chamado Monte Carlo, que consiste em executar diversas vezes processo em questão e então analisar numericamente os resultados. Para a avaliação do nosso sistema, estamos interessados em evidenciar a média e a variância do número de acertos de nosso sistema para diferentes tamanhos do conjunto de treinamento."
   ]
  },
  {
   "cell_type": "code",
   "execution_count": 6,
   "metadata": {
    "collapsed": false
   },
   "outputs": [
    {
     "data": {
      "image/png": "[encoded data removed]",
      "text/plain": [
       "<matplotlib.figure.Figure at 0x110b9cdd0>"
      ]
     },
     "metadata": {},
     "output_type": "display_data"
    }
   ],
   "source": [
    "# Parametros para executar busca exaustiva\n",
    "train_size_min = 0.2\n",
    "train_size_max = 0.95\n",
    "train_size_step = 0.05\n",
    "\n",
    "# Numero de iteracoes para cada tamanho de conjunto de treino\n",
    "n_iter = 100\n",
    "\n",
    "# Listas que armazenarao os resultados\n",
    "steps = []\n",
    "medias = []\n",
    "variancias = []\n",
    "\n",
    "train_size_atual = train_size_min\n",
    "while train_size_atual <= train_size_max: # para cada tamanho do conjunto de treino\n",
    "    acertos = []\n",
    "    for k in xrange(n_iter): # para cada iteracao do processo Monte Carlo\n",
    "        dados_treino, dados_teste, rotulos_treino, rotulos_teste =\\\n",
    "            train_test_split(altura_volei + altura_futebol, rotulos_volei + rotulos_futebol, train_size=train_size_atual)\n",
    "            \n",
    "        classificador = KNeighborsClassifier(n_neighbors=4); # n_neighbors = K\n",
    "        classificador.fit(dados_treino, rotulos_treino);\n",
    "        score = classificador.score(dados_teste, rotulos_teste);\n",
    "        acertos.append(score)\n",
    "    \n",
    "    steps.append(train_size_atual)\n",
    "    medias.append(np.mean(np.array(acertos)))\n",
    "    variancias.append(np.std(np.array(acertos)))\n",
    "    \n",
    "    train_size_atual += train_size_step\n",
    "\n",
    "\n",
    "plt.figure();\n",
    "plt.errorbar(steps, medias, yerr=variancias);\n",
    "plt.ylabel('Indice de acertos');\n",
    "plt.xlabel('Tamanho do conjunto de treino');"
   ]
  },
  {
   "cell_type": "markdown",
   "metadata": {
    "collapsed": false
   },
   "source": [
    "A grande variância do índice de acertos mostra que o modelo que escolhemos é muito sensível aos dados de treinamento, ou seja, dados de treinamento diferentes levam a resultados muito diferentes. Assim, dizemos que o modelo KNN, para esta aplicação, não foi eficaz no sentido de *generalizar* seus resultados. Nas próximas lições, verificaremos como podemos construir modelos mais robustos para este mesmo problema."
   ]
  },
  {
   "cell_type": "markdown",
   "metadata": {
    "collapsed": false
   },
   "source": [
    "# Exercícios\n",
    "\n",
    "1. Desenhe um fluxograma que representa o processo de aprendizado supervisionado e teste do sistema, mostrando como os dados de entrada são divididos e como são utilizados no processo de treinamento e teste.\n",
    "2. Observando os dados do problema, escolha um ponto que representa cada classe e que poderia implicar em bons resultados na classificação usando KNN.\n",
    "3. Observando os dados do problema, escolha um ponto que representa cada classe de tal forma que os resultados da classificação usando KNN sejam ruins.\n"
   ]
  },
  {
   "cell_type": "code",
   "execution_count": null,
   "metadata": {
    "collapsed": true
   },
   "outputs": [],
   "source": []
  },
  {
   "cell_type": "code",
   "execution_count": null,
   "metadata": {
    "collapsed": true
   },
   "outputs": [],
   "source": []
  },
  {
   "cell_type": "code",
   "execution_count": null,
   "metadata": {
    "collapsed": true
   },
   "outputs": [],
   "source": []
  },
  {
   "cell_type": "code",
   "execution_count": null,
   "metadata": {
    "collapsed": true
   },
   "outputs": [],
   "source": []
  }
 ],
 "metadata": {
  "kernelspec": {
   "display_name": "Python 2",
   "language": "python",
   "name": "python2"
  },
  "language_info": {
   "codemirror_mode": {
    "name": "ipython",
    "version": 2
   },
   "file_extension": ".py",
   "mimetype": "text/x-python",
   "name": "python",
   "nbconvert_exporter": "python",
   "pygments_lexer": "ipython2",
   "version": "2.7.10"
  }
 },
 "nbformat": 4,
 "nbformat_minor": 0
}
