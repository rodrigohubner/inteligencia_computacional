{
 "cells": [
  {
   "cell_type": "markdown",
   "metadata": {},
   "source": [
    "# Inteligência Computacional\n",
    "\n",
    "## Tópicos:\n",
    "* [Classificação por regras pré-definidas](classificador_regras.ipynb)\n",
    "* [Modelos não-paramétricos](nao_parametrico_knn.ipynb)\n",
    "* [Modelos geradores Bayesianos](bayesiano.ipynb)\n",
    "* [Modelos discriminativos lineares](linear.ipynb)\n",
    "* [Modelos discriminativos não-lineares](mlp.ipynb)\n",
    "* Regularização (SVM / K-Fold cross validation c/ estratificação)\n",
    "* Redução da dimensão: PCA, ICA, NL-PCA\n",
    "* Conjuntos de máquinas em sequência e em paralelo\n",
    "* Meta-heurísticas (Hill Climbing, Genetic Algorithm)\n",
    "\n"
   ]
  },
  {
   "cell_type": "markdown",
   "metadata": {},
   "source": []
  },
  {
   "cell_type": "code",
   "execution_count": null,
   "metadata": {
    "collapsed": true
   },
   "outputs": [],
   "source": []
  }
 ],
 "metadata": {
  "kernelspec": {
   "display_name": "Python 2",
   "language": "python",
   "name": "python2"
  },
  "language_info": {
   "codemirror_mode": {
    "name": "ipython",
    "version": 2
   },
   "file_extension": ".py",
   "mimetype": "text/x-python",
   "name": "python",
   "nbconvert_exporter": "python",
   "pygments_lexer": "ipython2",
   "version": "2.7.9"
  }
 },
 "nbformat": 4,
 "nbformat_minor": 0
}
