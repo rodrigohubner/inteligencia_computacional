{
 "cells": [
  {
   "cell_type": "markdown",
   "metadata": {},
   "source": [
    "# Inteligência Computacional\n",
    "\n",
    "\n",
    "## Objetivo terminal\n",
    "Ao fim deste curso, o aluno deverá ser capaz de **aplicar** adequadamente algoritmos de inteligência computacional a problemas de classificação de vetores e **avaliar** os efeitos dessa aplicação.\n",
    "\n",
    "## Tópicos:\n",
    "* [Classificação por regras pré-definidas](classificador_regras.ipynb)\n",
    "* [Modelos não-paramétricos](nao_parametrico_knn.ipynb)\n",
    "* [Modelos geradores Bayesianos](bayesiano.ipynb)\n",
    "* [Modelos discriminativos lineares](linear.ipynb)\n",
    "* [Modelos discriminativos não-lineares](mlp.ipynb)\n",
    "* [Regularização](regularizacao.ipynb)\n",
    "* [Máquinas de Vetor Suporte](svm.ipynb)\n",
    "* [Revisão e Estudos Comparativos](comparacao.ipynb)\n",
    "\n",
    "## Pré-requisitos\n",
    "Para acompanhar adequadamente o curso, o aluno deve sentir-se confortável com os seguintes tópicos:\n",
    "\n",
    "### Espaços euclidianos\n",
    "\n",
    "Se $\\boldsymbol a = [1, 0]$ e $\\boldsymbol b = [1, 1]$, calcule a norma L2 de $\\boldsymbol a + \\boldsymbol b$.\n",
    "\n",
    "### Derivadas e regra da cadeia\n",
    "\n",
    "Calcule $\\frac{d}{dx} \\cos^2(x^2)$.\n",
    "\n",
    "### Programação em Python\n",
    "\n",
    "O programa abaixo calcula a somatória dos elementos de uma lista $A$. Modifique-o para que retorne uma lista $B$ tal que $B[n]$ é a somatória de todos os elementos de $A$ com índice menor que $n$:"
   ]
  },
  {
   "cell_type": "code",
   "execution_count": 6,
   "metadata": {
    "collapsed": false
   },
   "outputs": [
    {
     "name": "stdout",
     "output_type": "stream",
     "text": [
      "3\n"
     ]
    }
   ],
   "source": [
    "A = [1, 4, 3, 2, 1, -5, -3, -2, 4, -3, 1]\n",
    "\n",
    "cumsum = 0\n",
    "for x in A:\n",
    "    cumsum += x\n",
    "print cumsum"
   ]
  },
  {
   "cell_type": "markdown",
   "metadata": {
    "collapsed": true
   },
   "source": [
    "### Análise de algoritmos\n",
    "\n",
    "Mostre que o programa acima executa em $O(N)$ operações, onde $N$ é o número de elementos da lista $A$.\n",
    "\n",
    "### Probabilidade\n",
    "\n",
    "Proponha um procedimento para definir se um dado (de seis faces) é um dado honesto ou um dado viciado.\n",
    "\n",
    "## Atividades do curso\n",
    "\n",
    "### Discussões\n",
    "Este curso envolve o estudo e análise de diversas soluções para o mesmo problema, que é o problema da classificação de vetores. Durante as etapas de exposição e discussão, os alunos são convidados a contribuir:\n",
    "* Com suas experiências pessoais, reflexões ou outros comentários pertinentes;\n",
    "* Respondendo (ou contribuindo com a resposta) a perguntas específicas propostas pelo instrutor.\n",
    "\n",
    "### Resoluções de exercícios\n",
    "Ao fim de cada unidade, há uma série de exercícios propostos. Eles deverão ser resolvidos e entregues em sala de aula. Os exercícios fazem parte do processo de aprendizado e podem ser discutidos em grupo e com o instrutor, mas é importante que cada aluno faça sua própria versão final, usando suas próprias palavras e/ou métodos.\n",
    "\n",
    "Embora o curso sugira o uso do pacote **sklearn**, há outros que também podem ser usados. O pacote **Weka**, em especial, já traz implementações de diversos algoritmos de aprendizado e pode ser usado para os exercícios computacionais.\n",
    "\n",
    "## Avaliação\n",
    "\n",
    "Ao fim do curso, cada aluno receberá uma nota de 0 a 10, distribuídos da seguinte forma:\n",
    "* 5 pontos: participação em sala de aula, contribuindo ativamente com as discussões\n",
    "* 5 pontos: média das notas das listas de exercícios realizadas em cada unidade\n",
    "\n",
    "Além desses pontos, cada aluno pode, opcionalmente, contribuir com material adicional ao curso. Este material será disponibilizado em um repositório de acesso livre. A contribuição desejada deve ser negociada com o instrutor, e valerá até 2 pontos adicionais.\n"
   ]
  },
  {
   "cell_type": "code",
   "execution_count": null,
   "metadata": {
    "collapsed": true
   },
   "outputs": [],
   "source": []
  }
 ],
 "metadata": {
  "kernelspec": {
   "display_name": "Python 2",
   "language": "python",
   "name": "python2"
  },
  "language_info": {
   "codemirror_mode": {
    "name": "ipython",
    "version": 2
   },
   "file_extension": ".py",
   "mimetype": "text/x-python",
   "name": "python",
   "nbconvert_exporter": "python",
   "pygments_lexer": "ipython2",
   "version": "2.7.10"
  }
 },
 "nbformat": 4,
 "nbformat_minor": 0
}
