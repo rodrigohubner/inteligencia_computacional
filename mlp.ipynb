{
 "cells": [
  {
   "cell_type": "markdown",
   "metadata": {},
   "source": [
    "# Modelos Discriminativos - Parte 2 - Sistemas Não-Lineares\n",
    "\n",
    "Os sistemas lineares têm a vantagem de serem facilmente treinados através de um processo de otimização convexa, isto é, que só tem um ponto de mínimo. Apesar disso, \n",
    "\n",
    "## Objetivos\n",
    "\n",
    "Ao fim desta iteração, o aluno será capaz de:\n",
    "* Entender o conceito e as limitações da propriedade *aproximação universal*\n",
    "* Entender os algoritmos de *backpropagation*\n",
    "* Aplicar redes MLP para problemas de classificação\n",
    "* Configurar redes MLP quanto ao seu número de neurônios e número de camadas"
   ]
  },
  {
   "cell_type": "code",
   "execution_count": 2,
   "metadata": {
    "collapsed": true
   },
   "outputs": [],
   "source": [
    "# Inicializacao\n",
    "%matplotlib inline\n",
    "\n",
    "import numpy as np\n",
    "from matplotlib import pyplot as plt\n",
    "\n",
    "# Abrindo conjunto de dados\n",
    "import csv\n",
    "with open(\"biometria.csv\", 'rb') as f:\n",
    "    dados = list(csv.reader(f))\n",
    "    \n",
    "rotulos_volei = [d[0] for d in dados[1:-1] if d[0] is 'V']\n",
    "rotulos_futebol = [d[0] for d in dados[1:-1] if d[0] is 'F']\n",
    "altura_volei = [[float(d[1])] for d in dados[1:-1] if d[0] is 'V']\n",
    "altura_futebol = [[float(d[1])] for d in dados[1:-1] if d[0] is 'F']\n",
    "peso_volei = [[float(d[2])] for d in dados[1:-1] if d[0] is 'V']\n",
    "peso_futebol = [[float(d[2])] for d in dados[1:-1] if d[0] is 'F']"
   ]
  },
  {
   "cell_type": "markdown",
   "metadata": {},
   "source": [
    "## Sistemas não-lineares\n",
    "\n",
    "Um sistema não-linear é aquele que não obedece as condições de linearidade. De forma geral, ele pode ser escrito como um vetor de saídas $\\boldsymbol y$ que é definido em função de um vetor de entradas $\\boldsymbol x$:\n",
    "\n",
    "\n",
    "\n"
   ]
  },
  {
   "cell_type": "markdown",
   "metadata": {},
   "source": [
    "$$\\boldsymbol y = f(\\boldsymbol A \\boldsymbol x),$$\n",
    "\n",
    "onde $\\boldsymbol y$ e $\\boldsymbol x$ são dados do problema e $\\boldsymbol A$ é uma matriz que combina linearmente os elementos das entradas. Uma possível função $f(.)$ é a tangente hiperbólica, que resulta num sistema:"
   ]
  },
  {
   "cell_type": "code",
   "execution_count": 12,
   "metadata": {
    "collapsed": false
   },
   "outputs": [
    {
     "name": "stdout",
     "output_type": "stream",
     "text": [
      "[[-0.76159416  0.         -0.09966799 -0.29131261]\n",
      " [ 0.76159416  0.09966799  0.          1.        ]\n",
      " [ 0.76159416  0.04995837  0.04995837  0.99993274]]\n"
     ]
    }
   ],
   "source": [
    "def nl_forward(A, x):\n",
    "    return np.tanh(np.dot(A,x))\n",
    "\n",
    "A = np.array([[-1, 0], [0, 1], [0.5, 0.5]]) # Entram dois elementos e saem três\n",
    "x = np.array([[1, 0, 0.1, 0.3], [1, 0.1, 0, 10]]) # Entra Quatro vetores-coluna\n",
    "\n",
    "print nl_forward(A, x)"
   ]
  },
  {
   "cell_type": "markdown",
   "metadata": {},
   "source": [
    "Porém, lembremos: queremos que nossa função tenha um comportamento específico, e não um comportamento arbitrário e/ou aparentemente aleatório. Idealmente, gostaríamos que os pesos fossem ajustados de forma a reduzir o erro das saídas em relação a um conjunto de dados de treinamento. À partir disso, verificaremos como o comportamento de nossa função é generalizado, avaliando seu comportamento em dados de teste.\n",
    "\n",
    "O erro de aproximação, na etapa de treinamento, é dado por:\n",
    "\n",
    "$$ E = ||\\boldsymbol y_e - \\boldsymbol y||^2 = \\boldsymbol y_e^2 - 2 \\boldsymbol y_e \\boldsymbol y + \\boldsymbol y^2$$\n",
    "\n",
    "Logo, temos:\n",
    "$$ \\frac{dE}{d \\boldsymbol y_e} = 2\\boldsymbol y_e - 2 \\boldsymbol y$$\n",
    "\n",
    "Podemos usar a regra da cadeia para evidenciar uma expressão para a derivada do erro em relação aos coeficientes da matriz $\\boldsymbol A$:\n",
    "\n",
    "$$\\frac{dE}{d \\boldsymbol A} = \\frac{dE}{d \\boldsymbol y_e} \\frac{d \\boldsymbol y_e}{d\\boldsymbol A} = \\frac{dE}{d \\boldsymbol y_e} \\frac{d \\boldsymbol f(\\boldsymbol A \\boldsymbol x)}{d\\boldsymbol A \\boldsymbol x} \\frac{d \\boldsymbol A \\boldsymbol x}{d \\boldsymbol A}$$\n",
    "\n",
    "Se cada vetor de dados é representado como um vetor-coluna, então:\n",
    " $$\\frac{d \\boldsymbol A \\boldsymbol x}{d \\boldsymbol A} = x^T$$\n",
    " \n",
    "e, portanto:\n",
    "\n",
    "$$\\frac{dE}{d \\boldsymbol A} = 2 (y_e - y) f'(\\boldsymbol A \\boldsymbol x) x^T,$$\n",
    "\n",
    "onde $\\otimes$ denota a multiplicação elemento-a-elemento.\n",
    "\n",
    "A derivada do erro em relação a $ \\boldsymbol A$, chamado também de gradiente, indica a direção na qual o erro mais aumenta. Portanto, seu oposto indica a direção em que $\\boldsymbol A$ pode se mover de forma a reduzir o erro ao máximo. Asso, podemos definir nossa função não-linear na forma:"
   ]
  },
  {
   "cell_type": "markdown",
   "metadata": {
    "collapsed": true
   },
   "source": []
  }
 ],
 "metadata": {
  "kernelspec": {
   "display_name": "Python 2",
   "language": "python",
   "name": "python2"
  },
  "language_info": {
   "codemirror_mode": {
    "name": "ipython",
    "version": 2
   },
   "file_extension": ".py",
   "mimetype": "text/x-python",
   "name": "python",
   "nbconvert_exporter": "python",
   "pygments_lexer": "ipython2",
   "version": "2.7.9"
  }
 },
 "nbformat": 4,
 "nbformat_minor": 0
}
