{
 "cells": [
  {
   "cell_type": "markdown",
   "metadata": {},
   "source": [
    "# Modelos Discriminativos - Parte 2 - Sistemas Não-Lineares\n",
    "\n",
    "Os sistemas lineares têm a vantagem de serem facilmente treinados através de um processo de otimização convexa, isto é, que só tem um ponto de mínimo. Apesar disso, \n",
    "\n",
    "## Objetivos\n",
    "\n",
    "Ao fim desta iteração, o aluno será capaz de:\n",
    "* Entender o conceito e as limitações da propriedade *aproximação universal*\n",
    "* Entender os algoritmos de *backpropagation*\n",
    "* Aplicar redes MLP para problemas de classificação\n",
    "* Configurar redes MLP quanto ao seu número de neurônios e número de camadas"
   ]
  },
  {
   "cell_type": "code",
   "execution_count": 83,
   "metadata": {
    "collapsed": true
   },
   "outputs": [],
   "source": [
    "# Inicializacao\n",
    "%matplotlib inline\n",
    "\n",
    "import numpy as np\n",
    "from matplotlib import pyplot as plt\n",
    "\n",
    "# Abrindo conjunto de dados\n",
    "import csv\n",
    "with open(\"biometria.csv\", 'rb') as f:\n",
    "    dados = list(csv.reader(f))\n",
    "    \n",
    "rotulos_volei = [d[0] for d in dados[1:-1] if d[0] is 'V']\n",
    "rotulos_futebol = [d[0] for d in dados[1:-1] if d[0] is 'F']\n",
    "altura_volei = [[float(d[1])] for d in dados[1:-1] if d[0] is 'V']\n",
    "altura_futebol = [[float(d[1])] for d in dados[1:-1] if d[0] is 'F']\n",
    "peso_volei = [[float(d[2])] for d in dados[1:-1] if d[0] is 'V']\n",
    "peso_futebol = [[float(d[2])] for d in dados[1:-1] if d[0] is 'F']"
   ]
  },
  {
   "cell_type": "markdown",
   "metadata": {},
   "source": [
    "## Erro de aproximação\n",
    "\n",
    "Seja um sistema qualquer cuja saída é uma estimativa $\\boldsymbol y_e$. Se comparada a uma referência $\\boldsymbol y$, o erro quadrático médio (EQM) da aproximação será igual a\n",
    "\n",
    "$$E = ||\\boldsymbol y_e - \\boldsymbol y||^2.$$\n",
    "\n",
    "Podemos calcular a derivada da aproximação em relação ao erro (ou: o gradiente da aproximação em relação ao erro). O gradiente $\\nabla E_{\\boldsymbol y_e}$ é um vetor de mesma dimensão de $\\boldsymbol y_e$ que indica a direção na qual o erro aumenta mais em relação à aproximação, dado por:\n",
    "\n",
    "$$\\nabla E_{\\boldsymbol y_e} = \n",
    "\\begin{pmatrix}\n",
    "  \\frac{dE}{d y_{e1}}  \\\\\n",
    "  \\frac{dE}{d y_{e2}} \\\\\n",
    "   \t\\vdots \\\\\n",
    "  \\frac{dE}{d y_{eI}} \n",
    " \\end{pmatrix}\n",
    " = \n",
    " \\begin{pmatrix}\n",
    "  2 (y_{e1} - y_1) \\\\\n",
    "  2 (y_{e2} - y_2) \\\\\n",
    "   \t\\vdots \\\\\n",
    "  2 (y_{eI} - y_I) \n",
    " \\end{pmatrix} \n",
    " =\n",
    " 2 (\\boldsymbol y_e - \\boldsymbol y).$$\n",
    "\n",
    "Esse resultado é importante porque um passo pequeno na direção contrária do gradiente levará à redução do erro. Assim, dado um fator multiplicativo $\\alpha$, temos que $\\boldsymbol y_e - \\alpha \\nabla E_{\\boldsymbol y_e}$ é uma operação que reduz o EQM.\n",
    "\n",
    "Ao realizar a operação:\n",
    "$$\\boldsymbol y_e \\leftarrow \\boldsymbol y_e - \\alpha \\frac{\\nabla E_{\\boldsymbol y_e}}{||\\nabla E_{\\boldsymbol y_e}||},$$\n",
    "temos ainda a garantia de que a norma L2 do vetor que será somado a $\\boldsymbol y_e$ tem norma conhecida."
   ]
  },
  {
   "cell_type": "code",
   "execution_count": 81,
   "metadata": {
    "collapsed": false
   },
   "outputs": [
    {
     "data": {
      "image/png": "[encoded data removed]",
      "text/plain": [
       "<matplotlib.figure.Figure at 0x7fc71568bad0>"
      ]
     },
     "metadata": {},
     "output_type": "display_data"
    }
   ],
   "source": [
    "alpha = 0.01 # Tamanho do passo\n",
    "y = np.array([1, 2., 1., 0., 0., -2., 0.5, .3]) # Referencia\n",
    "y_e = np.random.random(y.shape) # Vetor inicial\n",
    "\n",
    "n_passos = 500 # Vamos executar este numero de passos de otimizacao\n",
    "eqm = np.zeros((n_passos + 1)) # Vetor que recebera o EQM a cada iteracao\n",
    "eqm[0] = np.sum((y_e - y)**2)\n",
    "for i in xrange(n_passos):\n",
    "    gradiente = 2*(y_e - y)\n",
    "    y_e -= alpha * gradiente / np.linalg.norm(gradiente)\n",
    "    eqm[i + 1] = np.sum((y_e - y)**2)\n",
    "\n",
    "plt.figure();\n",
    "plt.plot(range(n_passos+1), eqm);\n",
    "plt.ylabel('EQM');\n",
    "plt.xlabel('Passos');\n"
   ]
  },
  {
   "cell_type": "markdown",
   "metadata": {},
   "source": [
    "Fica claro que o programa construído, de fato, reduz o EQM. Apesar disso, a solução ótima é trivial: se sabemos o valor-objetivo $\\boldsymbol y$ de $\\boldsymbol y_e$, basta fazê-lo igual a este valor que o erro se tornará nulo.\n",
    "\n",
    "O sistema é mais interessante caso $\\boldsymbol y_e$ seja uma combinação linear de um vetor de entradas $\\boldsymbol x$. Neste caso, temos:\n",
    "\n",
    "$$\\boldsymbol y_e = \\boldsymbol A \\boldsymbol x,$$\n",
    "\n",
    "onde $\\boldsymbol A$ é uma matriz de coeficientes de combinação. Temos liberdade para alterar $\\boldsymbol A$, mas não  diretamente $\\boldsymbol x$ ou $\\boldsymbol y_e$. Para tal, vamos aplicar o mesmo processo de minimização por gradiente descendente:\n",
    "\n",
    "$$\\nabla E _{\\boldsymbol A} = \\frac{dE}{d \\boldsymbol A} = \\frac{dE}{d \\boldsymbol y_e} \\frac{d \\boldsymbol y_e}{d \\boldsymbol A} = 2 (\\boldsymbol y_e - \\boldsymbol y) \\boldsymbol x^T.$$\n",
    "\n"
   ]
  },
  {
   "cell_type": "code",
   "execution_count": 66,
   "metadata": {
    "collapsed": false
   },
   "outputs": [
    {
     "data": {
      "image/png": "[encoded data removed]",
      "text/plain": [
       "<matplotlib.figure.Figure at 0x7fc715179f90>"
      ]
     },
     "metadata": {},
     "output_type": "display_data"
    }
   ],
   "source": [
    "alpha = 0.01 # Tamanho do passo\n",
    "x = np.array([[1, 50, 3],[5, 300, 2],[2, 3, 100]]) # Entradas de referencia\n",
    "y = np.array([[3], [20], [-7]]) # Saidas de referencia\n",
    "A = np.random.random((y.shape[0], x.shape[0]))\n",
    "              \n",
    "n_passos = 1000 # Vamos executar este numero de passos de otimizacao\n",
    "eqm2 = np.zeros((n_passos+1)) # Vetor que recebera o EQM a cada iteracao\n",
    "y_e = A * x\n",
    "eqm2[0] = np.sum((y_e - y)**2)\n",
    "for i in xrange(n_passos):\n",
    "    gradiente = 2*(y_e - y) * x.T\n",
    "    A -= alpha * gradiente / np.linalg.norm(gradiente)\n",
    "    y_e = A * x\n",
    "    eqm2[i+1] = np.sum((y_e - y)**2)\n",
    "\n",
    "plt.figure();\n",
    "plt.plot(range(n_passos+1), eqm2);\n",
    "plt.ylabel('EQM');\n",
    "plt.xlabel('Passos');"
   ]
  },
  {
   "cell_type": "markdown",
   "metadata": {},
   "source": [
    "A restrição do formato da função ($\\boldsymbol A \\boldsymbol x$) pode implicar em nunca reduzir o EQM a zero. Isso não significa que aproximações lineares não sejam úteis: podemos usar esse processo para deduzir, por exemplo, o valor da aceleração gravitacional à partir de uma série de medições de tempo de queda de objetos à em diferentes alturas. Sistemas lineares podem ser, também, treinados usando o processo de pseudo-inversão visto anteriormente."
   ]
  },
  {
   "cell_type": "markdown",
   "metadata": {},
   "source": [
    "\n",
    "\n",
    "## Sistemas não-lineares\n",
    "\n",
    "Um sistema não-linear é aquele que não obedece as condições de linearidade. De forma geral, ele pode ser escrito como um vetor de saídas $\\boldsymbol y$ que é definido em função de um vetor de entradas $\\boldsymbol x$:\n",
    "\n",
    "$$\\boldsymbol y_e = f(\\boldsymbol A \\boldsymbol x),$$\n",
    "\n",
    "onde $\\boldsymbol y$ e $\\boldsymbol x$ são dados do problema e $\\boldsymbol A$ é uma matriz que combina linearmente os elementos das entradas. Uma possível função $f(.)$ é a tangente hiperbólica, que resulta num sistema:\n",
    "\n"
   ]
  },
  {
   "cell_type": "code",
   "execution_count": 51,
   "metadata": {
    "collapsed": false
   },
   "outputs": [
    {
     "name": "stdout",
     "output_type": "stream",
     "text": [
      "[[-0.76159416  0.         -0.09966799 -0.29131261]\n",
      " [ 0.76159416  0.09966799  0.          1.        ]\n",
      " [ 0.76159416  0.04995837  0.04995837  0.99993274]]\n"
     ]
    }
   ],
   "source": [
    "def nl_forward(A, x):\n",
    "    return np.tanh(np.dot(A,x))\n",
    "\n",
    "A = np.array([[-1, 0], [0, 1], [0.5, 0.5]]) # Entram dois elementos e saem três\n",
    "x = np.array([[1, 0, 0.1, 0.3], [1, 0.1, 0, 10]]) # Entra Quatro vetores-coluna\n",
    "\n",
    "print nl_forward(A, x)"
   ]
  },
  {
   "cell_type": "markdown",
   "metadata": {},
   "source": [
    "Porém, lembremos: queremos que nossa função tenha um comportamento específico, e não um comportamento arbitrário e/ou aparentemente aleatório. Idealmente, gostaríamos que os pesos fossem ajustados de forma a reduzir o erro das saídas em relação a um conjunto de dados de treinamento. À partir disso, verificaremos como o comportamento de nossa função é generalizado, avaliando seu comportamento em dados de teste.\n",
    "\n",
    "Podemos usar, novamente, a regra da cadeia para evidenciar uma expressão para o gradiente do erro em relação aos coeficientes da matriz $\\boldsymbol A$:\n",
    "\n",
    "$$\\nabla E _\\boldsymbol A = \\frac{dE}{d \\boldsymbol y_e} \\frac{d \\boldsymbol y_e}{d\\boldsymbol A} = \\frac{dE}{d \\boldsymbol y_e} \\frac{d \\boldsymbol f(\\boldsymbol A \\boldsymbol x)}{d\\boldsymbol A \\boldsymbol x} \\frac{d \\boldsymbol A \\boldsymbol x}{d \\boldsymbol A}$$\n",
    "\n",
    "e, portanto:\n",
    "\n",
    "$$\\nabla E _\\boldsymbol A = (2 (y_e - y) \\otimes f'(\\boldsymbol A \\boldsymbol x)) x^T,$$\n",
    "\n",
    "onde $\\otimes$ denota a multiplicação elemento-a-elemento.\n",
    "\n",
    "Se fixarmos o formato da função $f(.)$, podemos executar, também, o processo de minimização por gradiente descendente:"
   ]
  },
  {
   "cell_type": "code",
   "execution_count": 84,
   "metadata": {
    "collapsed": false
   },
   "outputs": [
    {
     "data": {
      "text/plain": [
       "<matplotlib.text.Text at 0x7fc714d26790>"
      ]
     },
     "execution_count": 84,
     "metadata": {},
     "output_type": "execute_result"
    },
    {
     "data": {
      "image/png": "[encoded data removed]",
      "text/plain": [
       "<matplotlib.figure.Figure at 0x7fc714ead650>"
      ]
     },
     "metadata": {},
     "output_type": "display_data"
    }
   ],
   "source": [
    "y = np.array([[1, 0, 2, 3], [0, 1, -1, 3], [1, 2, 1, 3]]) # Saem quatro vetores-coluna de três elementos cada\n",
    "A = np.array([[-1, 0], [0, 1], [0.5, 0.5]]) # Entram dois elementos e saem três\n",
    "x = np.array([[1, 0, 0.1, 0.3], [1, 0.1, 0, 10]]) # Entram quatro vetores-coluna de dois elementos cada\n",
    "\n",
    "def gradiente(y, A, x):\n",
    "    y_e = nl_forward(A, x)\n",
    "    dedy = (y_e - y)\n",
    "    return np.dot (dedy * (1-np.tanh(np.dot(A,x))**2) , x.T)\n",
    "\n",
    "def erro(y, y_e):\n",
    "    return np.sum((y-y_e)**2)\n",
    "\n",
    "\n",
    "alpha = 0.01\n",
    "n_passos = 1000 # Vamos executar este numero de passos de otimizacao\n",
    "eqm3 = np.zeros((n_passos+1)) # Vetor que recebera o EQM a cada iteracao\n",
    "eqm3[0] = erro(y, nl_forward(A, x)) \n",
    "for i in xrange(n_passos):\n",
    "    eqm3[i+1] = erro(y, nl_forward(A, x))    \n",
    "    g = gradiente(y, A, x)\n",
    "    A -= alpha * g / np.linalg.norm(g)\n",
    "\n",
    "plt.figure();\n",
    "plt.plot(range(n_passos+1), eqm3);\n",
    "plt.ylabel('EQM');\n",
    "plt.xlabel('Passos');\n",
    "    "
   ]
  },
  {
   "cell_type": "markdown",
   "metadata": {
    "collapsed": true
   },
   "source": [
    "## Sistema não linear com linearidade na saída\n",
    "\n",
    "Vamos supor agora que o sistema não-linear recebeu uma nova operação de combinação linear na saída. Assim, temos:\n",
    "\n",
    "$$ \\boldsymbol y_e = \\boldsymbol B f(\\boldsymbol A \\boldsymbol x).$$\n",
    "\n",
    "Neste caso, temos duas matrizes de coeficientes que podem ser otimizadas, $\\boldsymbol A$ e $\\boldsymbol B$. Usando a regra da cadeia, podemos calcular ambos os gradientes:\n",
    "\n",
    "$$\\nabla E_{\\boldsymbol A} = \\frac{dE}{d \\boldsymbol y_e} \\frac{d \\boldsymbol y_e}{d \\boldsymbol A}\n",
    "= \\frac{dE}{d \\boldsymbol y_e} \\frac{d \\boldsymbol y_e}{d \\boldsymbol A \\boldsymbol x} \\frac{d \\boldsymbol A \\boldsymbol x}{d \\boldsymbol A}\n",
    "= (2(\\boldsymbol y_e - \\boldsymbol y) \\otimes \\boldsymbol B f'(\\boldsymbol A \\boldsymbol x) ) \\boldsymbol x^T.\n",
    "$$\n",
    "\n",
    "$$\\nabla E_{\\boldsymbol B} = \\frac{dE}{d \\boldsymbol y_e} \\frac{d \\boldsymbol y_e}{d \\boldsymbol B}\n",
    "= 2(\\boldsymbol y_e - \\boldsymbol y) f^T(\\boldsymbol A \\boldsymbol x).\n",
    "$$"
   ]
  },
  {
   "cell_type": "code",
   "execution_count": 82,
   "metadata": {
    "collapsed": false
   },
   "outputs": [
    {
     "data": {
      "text/plain": [
       "<matplotlib.text.Text at 0x7fc714cac8d0>"
      ]
     },
     "execution_count": 82,
     "metadata": {},
     "output_type": "execute_result"
    },
    {
     "data": {
      "image/png": "[encoded data removed]",
      "text/plain": [
       "<matplotlib.figure.Figure at 0x7fc714d26e10>"
      ]
     },
     "metadata": {},
     "output_type": "display_data"
    }
   ],
   "source": [
    "y = np.array([[1, 0, 2, 3], [0, 1, -1, 3], [1, 2, 1, 3]]).astype(float) # Saem quatro vetores-coluna de três elementos\n",
    "A = np.array([[-1, 0], [0, 1], [0.5, 0.5]]).astype(float) # Entram dois elementos e saem três\n",
    "B = np.array([[-1, 1, 2], [1, -1, 0], [-2, -3, -4]]).astype(float) # Entram tres elementos e saem tres\n",
    "x = np.array([[1, 0, 0.1, 0.3], [1, 0.1, 0, 10]]).astype(float) # Entram quatro vetores-coluna de dois elementos\n",
    "\n",
    "def nl_forward2(A, x, B):\n",
    "    return np.dot(B, np.tanh(np.dot(A,x)))\n",
    "\n",
    "def gradienteB(y, A, x, B):\n",
    "    ye = nl_forward2(A, x, B)\n",
    "    z = np.dot(A, x)\n",
    "    dedy = ye - y\n",
    "    return np.dot(dedy, np.tanh(z).T)\n",
    "\n",
    "def gradienteA(y, A, x, B):\n",
    "    y_e = nl_forward2(A, x, B)\n",
    "    return np.dot((y_e - y) * np.dot(B, (1-np.tanh(np.dot(A,x))**2)), x.T)\n",
    "\n",
    "def erro(y, y_e):\n",
    "    return np.sum((y-y_e)**2)\n",
    "\n",
    "alpha = 0.01\n",
    "n_passos = 1000 # Vamos executar este numero de passos de otimizacao\n",
    "eqm4 = np.zeros((n_passos+1)) # Vetor que recebera o EQM a cada iteracao\n",
    "eqm4[0] = erro(y, nl_forward2(A, x, B)) \n",
    "for i in xrange(n_passos):\n",
    "    eqm4[i+1] = erro(y, nl_forward2(A, x, B))    \n",
    "    gA = gradienteA(y, A, x, B)\n",
    "    gB = gradienteB(y, A, x, B)\n",
    "    A -= alpha * gA / np.linalg.norm(gA)\n",
    "    B -= alpha * gB / np.linalg.norm(gB)\n",
    "    \n",
    "\n",
    "plt.figure();\n",
    "plt.plot(range(n_passos+1), eqm4);\n",
    "plt.ylabel('EQM');\n",
    "plt.xlabel('Passos');\n",
    "    "
   ]
  },
  {
   "cell_type": "markdown",
   "metadata": {},
   "source": [
    "## Discussões\n",
    "\n",
    "### Não-linearidade\n",
    "A não-linearidade do tipo tangente hiperbólica tem a característica de ser quase linear próxima a zero, mas saturar em valores $-1$ e $1$ para entradas de grande valor absoluto.\n"
   ]
  },
  {
   "cell_type": "code",
   "execution_count": 87,
   "metadata": {
    "collapsed": false
   },
   "outputs": [
    {
     "data": {
      "image/png": "[encoded data removed]",
      "text/plain": [
       "<matplotlib.figure.Figure at 0x7fc714b02210>"
      ]
     },
     "metadata": {},
     "output_type": "display_data"
    }
   ],
   "source": [
    "x = np.linspace(-3, 3, num=100)\n",
    "plt.figure();\n",
    "plt.plot(x, np.tanh(x));\n",
    "plt.ylabel('tanh(x)');\n",
    "plt.xlabel('x');"
   ]
  },
  {
   "cell_type": "markdown",
   "metadata": {},
   "source": [
    "Trata-se, assim, de uma aproximação das funções de classificação tipo degrau, que valem $1$ para entradas positivas e $-1$ para entradas negativas. A vantagem da função tangente hiperbólica é que sua derivada é definida, o que permite a otimização de nossa estrutura pelo método de gradiente descendente.\n",
    "\n",
    "### Redes Neurais MLP\n",
    "A função se aproxima de um modelo de neurônio de acordo com o qual ele será ativado se sua entrada ultrapassar um determinado valor. Esse modelo é chamado de *perceptron*. Assim, cada unidade que calcula $tanh(x)$ é chamada de *perceptron*. É possível criar diversas camadas de *perceptrons* (expandindo a definição da função não linear, como em $\\boldsymbol y_e = \\boldsymbol B f(\\boldsymbol A f(\\boldsymbol C \\boldsymbol x))$). Esses perceptrons estão organizados numa rede definida pelas matrizes de coeficientes. Assim, a estrutura com que temos trabalhado é uma rede de neurônios artificiais, ou ainda, uma *rede neural artificial*. Mais especificamente, esta é uma rede com perceptrons organizados em múltiplas camadas, e, por isso, é chamada de *multi-layer perceptron* (*MLP*).\n",
    "\n",
    "### Aproximação Universal\n",
    "Aa estrutura do tipo $\\boldsymbol y_e = \\boldsymbol B f(\\boldsymbol A \\boldsymbol x)$ temos duas etapas de combinações lineares e, entre elas, uma etapa não-linear. Com essa estrutura, é possível definir arbitrariamente qual será o número de unidades de funções não-lineares que serão aplicadas através da escolha do número de linhas de $\\boldsymbol A$ e do número de colunas de $\\boldsymbol B$.\n",
    "\n",
    "O *Teorema da Aproximação Universal* mostra que, para qualquer função, existe um número de elementos não-lineares (nessa estrutura) que permite uma aproximação com erro arbitrariamente pequeno. Assim, é possível encontrar coeficientes adequados que levarão essa estrutura a convergir para qualquer função à partir de amostras, isto é, sem que a função seja conhecida. Essa propriedade é especialmente útil em situações em que não é possível deduzir uma função precisa, por exemplo:\n",
    "\n",
    "* Prever o desempenho de um aluno na última prova de um curso à partir de seu desempenho nas demais avaliações,\n",
    "* Definir se devemos comprar ou vender determinadas ações tomando por base seus valores passados,\n",
    "* Escolher quais jogadores deverão participar de um time\n",
    "\n",
    "Ao mesmo tempo, o *Teorema da Aproximação Universal* não leva em consideração a dificuldade inerente de encontrar os coeficientes corretos do sistema. Fazendo um paralelo com aproximações polinomiais, é possível imaginar que o número de amostras de dados necessárias para treinar uma estrutura como a que propusemos é, ao menos, proporcional ao número de coeficientes a serem determinados. A presença de coeficientes em excesso leva ao *sobre-ajuste* (*overfitting*), isto é, a função aproximará bem os dados de treino, mas falhará com relação aos dados de teste.\n",
    "\n",
    "### Retropropagação do erro\n",
    "O algoritmo de otimização por gradiente descendente, na forma que vimos, pode ser entendido à partir da retropropagação do erro de aproximação através das camadas da rede MLP. Para cada camada não-linear adicional, o gradiente do erro será dado pelos seguintes fatores:\n",
    "\n",
    "\n"
   ]
  },
  {
   "cell_type": "markdown",
   "metadata": {},
   "source": []
  },
  {
   "cell_type": "code",
   "execution_count": null,
   "metadata": {
    "collapsed": true
   },
   "outputs": [],
   "source": []
  }
 ],
 "metadata": {
  "kernelspec": {
   "display_name": "Python 2",
   "language": "python",
   "name": "python2"
  },
  "language_info": {
   "codemirror_mode": {
    "name": "ipython",
    "version": 2
   },
   "file_extension": ".py",
   "mimetype": "text/x-python",
   "name": "python",
   "nbconvert_exporter": "python",
   "pygments_lexer": "ipython2",
   "version": "2.7.9"
  }
 },
 "nbformat": 4,
 "nbformat_minor": 0
}
