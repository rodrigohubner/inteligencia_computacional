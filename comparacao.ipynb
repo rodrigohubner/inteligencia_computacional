{
 "cells": [
  {
   "cell_type": "markdown",
   "metadata": {},
   "source": [
    "# Revisão e Estudos Comparativos\n",
    "\n",
    "Neste curso, abordamos classificadores baseados em:\n",
    "* K Nearest Neighbors (KNN)\n",
    "* Modelos geradores\n",
    "* Classificadores lineares\n",
    "* Redes neurais MLP\n",
    "* Redes neurais MLP regularizadas\n",
    "* Máquinas de vetor-suporte\n",
    "\n",
    "Nesta interação, vamos estudá-las de forma comparativa.\n",
    "\n",
    "## Objetivos\n",
    "\n",
    "Ao fim desta unidade, o aluno deverá entender as diferenças entre cada um dos tipos de classificadores abordados no curso.\n",
    "\n",
    "## Exercícios / estudo guiado\n",
    "\n",
    "Para cada um dos tipos de classificadores: \n",
    "1. Identifique (em menos de 140 caracteres para cada ítem) a idéia subjacente ao seu funcionamento;\n",
    "2. Encontre o custo computacional (em notação Big-O) para as etapas de treinamento e de teste. Nessa análise, considere o número $n$ de amostras da base de dados, sua dimensão $d$ e o número de classes $c$ do conjunto analisado.\n",
    "3. Verifique quanta memória (em notação Big-O) é necessária para armazenar cada um dos classificadores. Evidencie, para cada caso, quais são os parâmetros do classificador que influenciam essa memória.\n",
    "4. Discuta quais tipos de classificadores são mais adequados de acordo com a disponibilidade de dados de treino, considerando uma classificação de duas classes em que há, para treinar cada classe: 1 amostra, 50 amostras (representando 5% das amostras totais), 500 amostras (representando 50% das amostras totais) e $10^9$ amostras.\n",
    "5. Discuta (se preciso, com os colegas) sobre quais problemas de classificação poderiam se beneficiar das características identificadas de cada tipo de classificador."
   ]
  },
  {
   "cell_type": "code",
   "execution_count": null,
   "metadata": {
    "collapsed": true
   },
   "outputs": [],
   "source": []
  }
 ],
 "metadata": {
  "kernelspec": {
   "display_name": "Python 2",
   "language": "python",
   "name": "python2"
  },
  "language_info": {
   "codemirror_mode": {
    "name": "ipython",
    "version": 2
   },
   "file_extension": ".py",
   "mimetype": "text/x-python",
   "name": "python",
   "nbconvert_exporter": "python",
   "pygments_lexer": "ipython2",
   "version": "2.7.10"
  }
 },
 "nbformat": 4,
 "nbformat_minor": 0
}
