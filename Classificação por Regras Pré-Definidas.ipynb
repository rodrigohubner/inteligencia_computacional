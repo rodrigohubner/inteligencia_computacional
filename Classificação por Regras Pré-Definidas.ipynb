{
 "cells": [
  {
   "cell_type": "markdown",
   "metadata": {
    "slideshow": {
     "slide_type": "slide"
    }
   },
   "source": [
    "# Classificação por Regras Pré-Definidas\n",
    "\n",
    "O problema com o qual vamos lidar é o de classificar automaticamente elementos de um conjunto através de suas características mensuráveis. Trata-se, assim, do problema de *observar* elementos e, através dessas observações, *inferir* qual é a *classe* à qual o elemento pertence. Neste caderno, iremos utilizar um processo de inferência baseado em regras pré-definidas.\n",
    "\n",
    "# Objetivos\n",
    "\n",
    "Ao final desta iteração, o estudante será capaz de:\n",
    "* Entender a relevância de características adequadas em conjuntos de dados\n",
    "* Analisar a relevância de características de dados usando *scatter plots* e histograma\n",
    "* Entender o conceito de *fronteira de decisão*\n",
    "* Construir regras para classificação à partir da análise manual de dados\n",
    "* Otimizar parâmetros de regras usando busca exaustiva\n"
   ]
  },
  {
   "cell_type": "code",
   "execution_count": 1,
   "metadata": {
    "collapsed": true,
    "slideshow": {
     "slide_type": "skip"
    }
   },
   "outputs": [],
   "source": [
    "%matplotlib inline\n",
    "\n",
    "import numpy as np\n",
    "from matplotlib import pyplot as plt"
   ]
  },
  {
   "cell_type": "markdown",
   "metadata": {
    "slideshow": {
     "slide_type": "slide"
    }
   },
   "source": [
    "# Conjunto de dados\n",
    "\n",
    "No nosso estudo de caso, verificaremos se é possível identificar o esporte que um jogador pratica observando apenas suas características físicas. Para isso, utilizaremos dados reais de altura e peso dos jogadores das seleções brasileiras de [futebol](http://tnh1.ne10.uol.com.br/noticia/esporte/2014/05/07/298773/confira-quem-sao-e-a-ficha-tecnica-completa-dos-convocados-por-felipao) e [vôlei](http://www.cbv.com.br/v1/ligamundial/infobrasil.asp). Os dados estão num arquivo [CSV](https://en.wikipedia.org/wiki/Comma-separated_values), que pode ser carregado para uma variável de ambiente para nossa simulação."
   ]
  },
  {
   "cell_type": "code",
   "execution_count": 2,
   "metadata": {
    "collapsed": false,
    "slideshow": {
     "slide_type": "subslide"
    }
   },
   "outputs": [
    {
     "name": "stdout",
     "output_type": "stream",
     "text": [
      "['Esporte', 'Altura (m)', 'Peso (kg)']\n",
      "['V', '1.9', '76']\n",
      "['V', '1.98', '70']\n",
      "['V', '2.04', '101']\n",
      "['V', '1.88', '77']\n",
      "['V', '2.14', '109']\n",
      "['V', '2.05', '84']\n",
      "['V', '1.96', '89']\n",
      "['V', '2.09', '101']\n",
      "['V', '1.95', '79']\n",
      "['V', '1.95', '83']\n",
      "['V', '1.92', '91']\n",
      "['V', '1.99', '99']\n",
      "['V', '2.09', '93']\n",
      "['V', '1.9', '76']\n",
      "['V', '1.94', '76']\n",
      "['V', '2.06', '93']\n",
      "['V', '1.9', '82']\n",
      "['V', '2.03', '90']\n",
      "['V', '1.99', '80']\n",
      "['V', '2.12', '97']\n",
      "['V', '1.98', '87']\n",
      "['V', '1.85', '78']\n",
      "['F', '1.86', '80']\n",
      "['F', '1.88', '80']\n",
      "['F', '1.93', '88']\n",
      "['F', '1.73', '65']\n",
      "['F', '1.84', '79']\n",
      "['F', '1.73', '72']\n",
      "['F', '1.77', '79']\n",
      "['F', '1.83', '79']\n",
      "['F', '1.89', '84']\n",
      "['F', '1.88', '78']\n",
      "['F', '1.87', '76']\n",
      "['F', '1.87', '78']\n",
      "['F', '1.8', '69']\n",
      "['F', '1.81', '72']\n",
      "['F', '1.76', '67']\n",
      "['F', '1.8', '75']\n",
      "['F', '1.74', '70']\n",
      "['F', '1.8', '67']\n",
      "['F', '1.74', '62']\n",
      "['F', '1.8', '85']\n",
      "['F', '1.63', '60']\n",
      "['F', '1.85', '84']\n",
      "['F', '1.9', '76']\n"
     ]
    }
   ],
   "source": [
    "import csv\n",
    "with open(\"biometria.csv\", 'rb') as f:\n",
    "    dados = list(csv.reader(f))\n",
    "\n",
    "for d in dados:\n",
    "    print d"
   ]
  },
  {
   "cell_type": "markdown",
   "metadata": {
    "slideshow": {
     "slide_type": "slide"
    }
   },
   "source": [
    "# Visualizando dados\n",
    "\n",
    "Cada um dos elementos do conjunto de dados é caracterizado por três valores: o esporte que pratica (**F**utebol ou **V**ôlei), sua altura e seu peso. Visualizar todos esses dados na forma de uma tabela, porém, é claramente pouco prático. Podemos imaginar como conjuntos de dados ainda maiores se comportariam - uma tabela com jogadores de futebol e vôlei de todos os países que participam do campeonato mundial, por exemplo, seria obviamente muito grande para ser analisada na forma de números.\n",
    "\n",
    "Uma forma bastante comum de visualização de dados é o *scatter plot*. Trata-se de um tipo de figura na qual os pontos de um conjunto são colocados em uma figura. Utilizaremos cores para identificar o esporte relacionado a cada um dos pontos de dados."
   ]
  },
  {
   "cell_type": "code",
   "execution_count": 3,
   "metadata": {
    "collapsed": false,
    "slideshow": {
     "slide_type": "subslide"
    }
   },
   "outputs": [
    {
     "data": {
      "image/png": "[encoded data removed]",
      "text/plain": [
       "<matplotlib.figure.Figure at 0x7f94a1805050>"
      ]
     },
     "metadata": {},
     "output_type": "display_data"
    }
   ],
   "source": [
    "# Separando os dados em arrays do numpy\n",
    "rotulos_volei = [d[0] for d in dados[1:-1] if d[0] is 'V']\n",
    "rotulos_futebol = [d[0] for d in dados[1:-1] if d[0] is 'F']\n",
    "altura_volei = np.array([float(d[1]) for d in dados[1:-1] if d[0] is 'V'])\n",
    "altura_futebol = np.array([float(d[1]) for d in dados[1:-1] if d[0] is 'F'])\n",
    "peso_volei = np.array([float(d[2]) for d in dados[1:-1] if d[0] is 'V'])\n",
    "peso_futebol = np.array([float(d[2]) for d in dados[1:-1] if d[0] is 'F'])\n",
    "\n",
    "plt.figure();\n",
    "plt.scatter(peso_volei, altura_volei, color='red');\n",
    "plt.scatter(peso_futebol, altura_futebol, color='blue');\n",
    "plt.ylabel('Altura (m)');\n",
    "plt.xlabel('Peso (kg)');\n",
    "plt.xlim([60, 120]);\n",
    "plt.ylim([1.6, 2.2]);\n",
    "plt.legend(['V', 'F'], loc=4);"
   ]
  },
  {
   "cell_type": "markdown",
   "metadata": {
    "slideshow": {
     "slide_type": "subslide"
    }
   },
   "source": [
    "O *scatter plot* nos permite verificar a relevância de cada uma das características que medimos para o problema de classificação em questão. Observando a distribuição dos dados no eixo vertical, verificamos que jogadores de vôlei, quase sempre, são **mais altos** que os jogadores de futebol. Observando a distribuição de dados no eixo horizontal, verificamos que jogadores futebol tendem a ser mais leves que os jogadores de vôlei, mas não há uma divisão tão clara quanto no caso da altura.\n",
    "\n",
    "Isso nos indica que poderíamos escolher um limiar de altura acima do qual um jogador seria classificado como um jogador de vôlei, e, consequentemente, abaixo do qual ele seria classificado como jogador de futebol. Implementei o classificador como uma função que recebe como entrada um valor de limiar e um conjunto de dados, e retorna os rótulos que devem ser associados a cada um dos pontos desse conjunto. A função aplica a regra do limiar a cada um dos elementos do vetor de dados recebido na entrada."
   ]
  },
  {
   "cell_type": "code",
   "execution_count": 4,
   "metadata": {
    "collapsed": false,
    "slideshow": {
     "slide_type": "subslide"
    }
   },
   "outputs": [
    {
     "name": "stdout",
     "output_type": "stream",
     "text": [
      "Exemplo:  ['V', 'F', 'F', 'F', 'V']\n"
     ]
    }
   ],
   "source": [
    "def classificador_limiar(limiar, dados, rotulos=('V', 'F')):\n",
    "    ans = []\n",
    "    for i in xrange(len(dados)):\n",
    "        if dados[i] > limiar:\n",
    "            ans.append(rotulos[0])\n",
    "        else:\n",
    "            ans.append(rotulos[1])\n",
    "            \n",
    "    return ans\n",
    "\n",
    "print \"Exemplo: \", classificador_limiar(1.9, [1.99, 1.9, 1.89, 1.3, 2.1])"
   ]
  },
  {
   "cell_type": "markdown",
   "metadata": {
    "slideshow": {
     "slide_type": "-"
    }
   },
   "source": [
    "A escolha de um limiar de classificação pode ser interpretada como a divisão do espaço definido pelas características observadas em partições, sendo que cada uma corresponde a uma classe. Se escolhermos um limiar de 1.90 m para a decisão, observaremos o seguinte particionamento:"
   ]
  },
  {
   "cell_type": "code",
   "execution_count": 5,
   "metadata": {
    "collapsed": false,
    "scrolled": true,
    "slideshow": {
     "slide_type": "subslide"
    }
   },
   "outputs": [
    {
     "data": {
      "image/png": "[encoded data removed]",
      "text/plain": [
       "<matplotlib.figure.Figure at 0x7f94a1597350>"
      ]
     },
     "metadata": {},
     "output_type": "display_data"
    }
   ],
   "source": [
    "plt.figure();\n",
    "plt.scatter(peso_volei, altura_volei, color='red');\n",
    "plt.scatter(peso_futebol, altura_futebol, color='blue');\n",
    "plt.plot([60, 120], [1.9, 1.9], color='green', lw=1)\n",
    "plt.ylabel('Altura (m)');\n",
    "plt.xlabel('Peso (kg)');\n",
    "plt.xlim([60, 120]);\n",
    "plt.ylim([1.6, 2.2]);\n",
    "plt.legend(['Limiar', 'V', 'F'], loc=4);"
   ]
  },
  {
   "cell_type": "markdown",
   "metadata": {
    "slideshow": {
     "slide_type": "slide"
    }
   },
   "source": [
    "# Aplicando a regra de decisão\n",
    "\n",
    "Chega então o momento de aplicar, de fato, a regra de decisão aos dados de nosso conjunto. Após essa aplicação, poderemos comparar o resultado da classificação automática com o gabarito (*ground-truth*), o que nos permite contar erros e acertos. Em especial, nos interessa contar erros e acertos separadamente para cada classe de jogadores."
   ]
  },
  {
   "cell_type": "code",
   "execution_count": 6,
   "metadata": {
    "collapsed": false,
    "slideshow": {
     "slide_type": "subslide"
    }
   },
   "outputs": [],
   "source": [
    "def comparar_resultados(resultado, gabarito):\n",
    "    acertos = 0\n",
    "    erros = 0\n",
    "    for i in range(len(resultado)):\n",
    "        if resultado[i] == gabarito[i]:\n",
    "            acertos += 1\n",
    "        else:\n",
    "            erros += 1\n",
    "            \n",
    "    return acertos, erros"
   ]
  },
  {
   "cell_type": "code",
   "execution_count": 7,
   "metadata": {
    "collapsed": false,
    "slideshow": {
     "slide_type": "subslide"
    }
   },
   "outputs": [
    {
     "name": "stdout",
     "output_type": "stream",
     "text": [
      "Volei:  (17, 5)\n",
      "Futebol: (21, 1)\n"
     ]
    }
   ],
   "source": [
    "# Executar classificacao\n",
    "classificacao_volei = classificador_limiar(1.9, altura_volei)\n",
    "classificacao_futebol = classificador_limiar(1.9, altura_futebol)\n",
    "\n",
    "# Comparar resultados com gabarito\n",
    "resultados_volei = comparar_resultados(classificacao_volei, rotulos_volei)\n",
    "resultados_futebol = comparar_resultados(classificacao_futebol, rotulos_futebol)\n",
    "\n",
    "# Mostrar resultados\n",
    "print \"Volei: \", resultados_volei\n",
    "print \"Futebol:\", resultados_futebol\n"
   ]
  },
  {
   "cell_type": "markdown",
   "metadata": {
    "slideshow": {
     "slide_type": "subslide"
    }
   },
   "source": [
    "Um resultado bastante interessante desta execução é que, embora as figuras de *scatter plot* tenham mostrado apenas quatro jogadores de vôlei próximos à fronteira de decisão (e, portanto, sujeitos a erros), o sistema de avaliação acusou cinco erros na classificação. Isso aconteceu porque alguns pontos foram sobrepostos ao serem desenhados na imagem. Uma possível maneira de contornar esse problema é adicionando um pequeno ruído aleatório à posição de cada um dos pontos, evidenciando os elementos ocultos."
   ]
  },
  {
   "cell_type": "code",
   "execution_count": 8,
   "metadata": {
    "collapsed": false,
    "slideshow": {
     "slide_type": "subslide"
    }
   },
   "outputs": [
    {
     "data": {
      "image/png": "[encoded data removed]",
      "text/plain": [
       "<matplotlib.figure.Figure at 0x7f94a0056a50>"
      ]
     },
     "metadata": {},
     "output_type": "display_data"
    }
   ],
   "source": [
    "plt.figure();\n",
    "plt.scatter(peso_volei + 2*np.random.random(peso_volei.shape), altura_volei, color='red');\n",
    "plt.scatter(peso_futebol + 2*np.random.random(peso_futebol.shape), altura_futebol, color='blue');\n",
    "plt.plot([60, 120], [1.9, 1.9], color='green', lw=1)\n",
    "plt.ylabel('Altura (m)');\n",
    "plt.xlabel('Peso (kg)');\n",
    "plt.xlim([60, 120]);\n",
    "plt.ylim([1.6, 2.2]);\n",
    "plt.legend(['Limiar', 'V', 'F'], loc=4);"
   ]
  },
  {
   "cell_type": "markdown",
   "metadata": {
    "slideshow": {
     "slide_type": "subslide"
    }
   },
   "source": [
    "Esse procedimento evidencia caracteríticas que poderiam ficar ocultas no conjunto de dados. Porém, se aplicado em excesso, pode tornar a representação menos precisa. Uma ferramenta de análise de dados que permite verificar quantos pontos estão em cada posição é o histograma."
   ]
  },
  {
   "cell_type": "code",
   "execution_count": 9,
   "metadata": {
    "collapsed": false,
    "slideshow": {
     "slide_type": "slide"
    }
   },
   "outputs": [
    {
     "data": {
      "image/png": "[encoded data removed]",
      "text/plain": [
       "<matplotlib.figure.Figure at 0x7f94a17fbf50>"
      ]
     },
     "metadata": {},
     "output_type": "display_data"
    },
    {
     "data": {
      "image/png": "[encoded data removed]",
      "text/plain": [
       "<matplotlib.figure.Figure at 0x7f949b772410>"
      ]
     },
     "metadata": {},
     "output_type": "display_data"
    }
   ],
   "source": [
    "plt.figure();\n",
    "plt.hist([altura_volei, altura_futebol], 10, normed=0, histtype='bar',\n",
    "                            color=['red', 'blue'],\n",
    "                            label=['V', 'F']);\n",
    "plt.xlabel('Altura (m)');\n",
    "plt.ylabel('Quantidade de jogadores');\n",
    "plt.legend(loc=1);\n",
    "\n",
    "plt.figure();\n",
    "plt.hist([peso_volei, peso_futebol], 10, normed=0, histtype='bar',\n",
    "                            color=['red', 'blue'],\n",
    "                            label=['V', 'F']);\n",
    "plt.xlabel('Peso (kg)');\n",
    "plt.ylabel('Quantidade de jogadores');\n",
    "plt.legend(loc=1);"
   ]
  },
  {
   "cell_type": "markdown",
   "metadata": {
    "slideshow": {
     "slide_type": "fragment"
    }
   },
   "source": [
    "O histograma traz uma representação mais clara do comportamento dos dados, evidenciando a frequência de ocorrência de cada faixa de valores em cada dimensão. Porém, ao mesmo tempo, não evidencia as correlações entre variáveis. De qualquer forma, trata-se de uma ferramenta importante para verificar quais características são relevantes no processo de classificação.\n"
   ]
  },
  {
   "cell_type": "markdown",
   "metadata": {
    "slideshow": {
     "slide_type": "slide"
    }
   },
   "source": [
    "\n",
    "# Otimizando o processo de classificação\n",
    "\n",
    "Não temos, neste momento, nenhum motivo para crer que nosso limiar inicial - 1.9m - seja o melhor possível (ou: o ótimo) para realizar a classificação automática a que nos propusemos. No trecho de código abaixo, é possível variar o valor do limiar e então visualizar a fronteira de decisão e o número total de acertos do processo de classificação. **Antes de prosseguir, experimente alguns valores para o limiar e tente otimizar o número de acertos do sistema**."
   ]
  },
  {
   "cell_type": "code",
   "execution_count": 1,
   "metadata": {
    "collapsed": false,
    "slideshow": {
     "slide_type": "subslide"
    }
   },
   "outputs": [
    {
     "ename": "NameError",
     "evalue": "name 'classificador_limiar' is not defined",
     "output_type": "error",
     "traceback": [
      "\u001b[1;31m---------------------------------------------------------------------------\u001b[0m",
      "\u001b[1;31mNameError\u001b[0m                                 Traceback (most recent call last)",
      "\u001b[1;32m<ipython-input-1-131707e61142>\u001b[0m in \u001b[0;36m<module>\u001b[1;34m()\u001b[0m\n\u001b[0;32m      2\u001b[0m \u001b[1;33m\u001b[0m\u001b[0m\n\u001b[0;32m      3\u001b[0m \u001b[1;31m# Executar classificacao\u001b[0m\u001b[1;33m\u001b[0m\u001b[1;33m\u001b[0m\u001b[0m\n\u001b[1;32m----> 4\u001b[1;33m \u001b[0mclassificacao_volei\u001b[0m \u001b[1;33m=\u001b[0m \u001b[0mclassificador_limiar\u001b[0m\u001b[1;33m(\u001b[0m\u001b[0mlimiar\u001b[0m\u001b[1;33m,\u001b[0m \u001b[0maltura_volei\u001b[0m\u001b[1;33m)\u001b[0m\u001b[1;33m\u001b[0m\u001b[0m\n\u001b[0m\u001b[0;32m      5\u001b[0m \u001b[0mclassificacao_futebol\u001b[0m \u001b[1;33m=\u001b[0m \u001b[0mclassificador_limiar\u001b[0m\u001b[1;33m(\u001b[0m\u001b[0mlimiar\u001b[0m\u001b[1;33m,\u001b[0m \u001b[0maltura_futebol\u001b[0m\u001b[1;33m)\u001b[0m\u001b[1;33m\u001b[0m\u001b[0m\n\u001b[0;32m      6\u001b[0m \u001b[1;33m\u001b[0m\u001b[0m\n",
      "\u001b[1;31mNameError\u001b[0m: name 'classificador_limiar' is not defined"
     ]
    }
   ],
   "source": [
    "limiar = 2.35\n",
    "\n",
    "# Executar classificacao\n",
    "classificacao_volei = classificador_limiar(limiar, altura_volei)\n",
    "classificacao_futebol = classificador_limiar(limiar, altura_futebol)\n",
    "\n",
    "# Comparar resultados com gabarito\n",
    "resultados_volei = comparar_resultados(classificacao_volei, rotulos_volei)\n",
    "resultados_futebol = comparar_resultados(classificacao_futebol, rotulos_futebol)\n",
    "\n",
    "# Mostrar resultados e limiar de classificação\n",
    "plt.figure();\n",
    "plt.scatter(peso_volei + 2*np.random.random(peso_volei.shape), altura_volei, color='red');\n",
    "plt.scatter(peso_futebol + 2*np.random.random(peso_futebol.shape), altura_futebol, color='blue');\n",
    "plt.plot([60, 120], [limiar, limiar], color='green', lw=1)\n",
    "plt.ylabel('Altura (m)');\n",
    "plt.xlabel('Peso (kg)');\n",
    "plt.xlim([60, 120]);\n",
    "plt.ylim([1.6, 2.2]);\n",
    "plt.legend(['Limiar', 'V', 'F'], loc=4);\n",
    "\n",
    "print \"Total de acertos:\", resultados_volei[0] + resultados_futebol[0]"
   ]
  },
  {
   "cell_type": "markdown",
   "metadata": {
    "slideshow": {
     "slide_type": "subslide"
    }
   },
   "source": [
    "Deve ficar óbvio que a otimização do limiar através da variação manual rapidamente se torna um processo laborioso. Embora algumas respostas sejam claramente piores que outras, existem várias respostas que parecem boas dentro de um intervalo muito pequeno, e não temos como garantir que uma delas seja, necessariamente, ótima. Porém, podemos aumentar nossas chances de encontrar um valor ótimo se automatizarmos o processo de busca exaustiva.\n",
    "\n",
    "O código abaixo executa o processo de busca exaustiva variando o limiar entre dois limites - inicial e final - com passos de tamanho conhecido. A cada passo, verifica se o resultado encontrado é melhor que o melhor resultado armazenado até então, e, caso seja, armazena esse novo resultado. **Verifique o que acontece com o resultado ao tornar o passo progressivamente mais refinado.**"
   ]
  },
  {
   "cell_type": "code",
   "execution_count": 14,
   "metadata": {
    "collapsed": false,
    "slideshow": {
     "slide_type": "subslide"
    }
   },
   "outputs": [
    {
     "name": "stdout",
     "output_type": "stream",
     "text": [
      "Melhor limiar: 1.9  Acertos: 38\n"
     ]
    },
    {
     "data": {
      "image/png": "[encoded data removed]",
      "text/plain": [
       "<matplotlib.figure.Figure at 0x7f949b23dad0>"
      ]
     },
     "metadata": {},
     "output_type": "display_data"
    }
   ],
   "source": [
    "limiares = [] # limiares candidatos\n",
    "respostas = []\n",
    "\n",
    "# Limiares que serao testados\n",
    "inicial = 1.6\n",
    "passo = 0.1\n",
    "final = 2.2\n",
    "\n",
    "i = inicial\n",
    "\n",
    "melhor_limiar = inicial\n",
    "melhor_classificacao = 0\n",
    "\n",
    "while i <= final :\n",
    "    # Executar classificacao\n",
    "    classificacao_volei = classificador_limiar(i, altura_volei);\n",
    "    classificacao_futebol = classificador_limiar(i, altura_futebol);\n",
    "\n",
    "    # Comparar resultados com gabarito\n",
    "    resultados_volei = comparar_resultados(classificacao_volei, rotulos_volei);\n",
    "    resultados_futebol = comparar_resultados(classificacao_futebol, rotulos_futebol);\n",
    "    \n",
    "    # Calcula o total de acertos e armazena o resultado\n",
    "    res = resultados_volei[0] + resultados_futebol[0]\n",
    "    respostas.append(res);\n",
    "    limiares.append(i);\n",
    "    \n",
    "    # Verifica se consegui uma classificacao melhor\n",
    "    if res > melhor_classificacao:\n",
    "        melhor_classificacao = res\n",
    "        melhor_limiar = i\n",
    "    \n",
    "    # Da mais um passo\n",
    "    i += passo;\n",
    "    \n",
    "# Mostrar resultados e limiar de classificação\n",
    "plt.figure();\n",
    "plt.plot(limiares, respostas);\n",
    "plt.ylabel('Acertos');\n",
    "plt.xlabel('Limiar');\n",
    "\n",
    "print \"Melhor limiar:\", melhor_limiar, \" Acertos:\", melhor_classificacao\n"
   ]
  },
  {
   "cell_type": "markdown",
   "metadata": {
    "slideshow": {
     "slide_type": "slide"
    }
   },
   "source": [
    "O processo de busca exaustiva pode encontrar bons resultados, mas depende de calcular a função de classificação diversas vezes - tantas mais vezes quanto for fina a grade de busca. Assim, uma busca que garante resultados melhores será computacionalmente mais custosa. Isso pode torná-la inviável para diversos casos de aplicação, como trabalhos com *big data* ou com funções custosas como *mineração de bitcoin*.\n",
    "\n",
    "Além disso, a busca exaustiva, quando executada sobre diversos parâmetros, deve levar em consideração uma grade de várias dimensões (e, por isso, é também chamado de *grid search*). Se temos $n$ dimensões, sendo que $k$ possibilidades de cada uma delas será testada, então a busca exaustiva deverá executar $k^n$ testes de uma função. Neste momento, é importante lembrar que $6 \\times 10^{23}$ é um mol e que o número de átomos no universo é estimado na orde de $10^{200}$, ou seja, um *grid search* com mais que algumas poucas dimensões é computacionalmente infactível."
   ]
  },
  {
   "cell_type": "markdown",
   "metadata": {
    "slideshow": {
     "slide_type": "slide"
    }
   },
   "source": [
    "# Exercícios\n",
    "\n",
    "1. Escreva, com suas palavras, o que significa \"fronteira de decisão\".\n",
    "2. Justifique, com suas palavras e usando os dados do problema, o motivo pelo qual a altura parece uma característica mais relevante que o peso para a classificação de jogadores.\n",
    "3. Modifique os programas propostos para que a classificação de jogadores seja feita usando o peso, e não a altura dos jogadores, e compare os resultados com os que obtivemos no processo de busca exaustiva.\n",
    "4. Proponha uma outra característica que poderia ser usada no processo de classificação de jogadores e explique porque você espera que ela é relevante para o processo de classificação.\n",
    "5. Proponha um problema de classificação à sua escolha e identifique algumas características dos elementos envolvidos que poderiam contribuir para o processo de classificação."
   ]
  }
 ],
 "metadata": {
  "kernelspec": {
   "display_name": "Python 2",
   "language": "python",
   "name": "python2"
  },
  "language_info": {
   "codemirror_mode": {
    "name": "ipython",
    "version": 2
   },
   "file_extension": ".py",
   "mimetype": "text/x-python",
   "name": "python",
   "nbconvert_exporter": "python",
   "pygments_lexer": "ipython2",
   "version": "2.7.9"
  }
 },
 "nbformat": 4,
 "nbformat_minor": 0
}
